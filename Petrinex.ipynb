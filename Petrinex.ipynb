{
  "nbformat": 4,
  "nbformat_minor": 0,
  "metadata": {
    "colab": {
      "provenance": [],
      "authorship_tag": "ABX9TyMro4ZGy1c1gV4djadzb0Bt",
      "include_colab_link": true
    },
    "kernelspec": {
      "name": "ir",
      "display_name": "R"
    },
    "language_info": {
      "name": "R"
    }
  },
  "cells": [
    {
      "cell_type": "markdown",
      "metadata": {
        "id": "view-in-github",
        "colab_type": "text"
      },
      "source": [
        "<a href=\"https://colab.research.google.com/github/antonysama/exploratory/blob/master/Petrinex.ipynb\" target=\"_parent\"><img src=\"https://colab.research.google.com/assets/colab-badge.svg\" alt=\"Open In Colab\"/></a>"
      ]
    },
    {
      "cell_type": "code",
      "execution_count": 61,
      "metadata": {
        "colab": {
          "base_uri": "https://localhost:8080/",
          "height": 296
        },
        "id": "6nzZfN-ZtBSY",
        "outputId": "cb4859eb-a57f-4b0e-9b97-d93f2f8723a9"
      },
      "outputs": [
        {
          "output_type": "stream",
          "name": "stderr",
          "text": [
            "Installing packages into ‘/usr/local/lib/R/site-library’\n",
            "(as ‘lib’ is unspecified)\n",
            "\n",
            "Warning message:\n",
            "“packages ‘TRUE’, ‘https://cran.rstudio.com/’ are not available for this version of R\n",
            "\n",
            "Versions of these packages for your version of R might be available elsewhere,\n",
            "see the ideas at\n",
            "https://cran.r-project.org/doc/manuals/r-patched/R-admin.html#Installing-packages”\n"
          ]
        },
        {
          "output_type": "display_data",
          "data": {
            "text/html": [
              "<ol>\n",
              "\t<li>TRUE</li>\n",
              "\t<li>TRUE</li>\n",
              "\t<li>TRUE</li>\n",
              "\t<li>TRUE</li>\n",
              "\t<li>TRUE</li>\n",
              "</ol>\n"
            ],
            "text/markdown": "1. TRUE\n2. TRUE\n3. TRUE\n4. TRUE\n5. TRUE\n\n\n",
            "text/latex": "\\begin{enumerate}\n\\item TRUE\n\\item TRUE\n\\item TRUE\n\\item TRUE\n\\item TRUE\n\\end{enumerate}\n",
            "text/plain": [
              "[[1]]\n",
              "[1] TRUE\n",
              "\n",
              "[[2]]\n",
              "[1] TRUE\n",
              "\n",
              "[[3]]\n",
              "[1] TRUE\n",
              "\n",
              "[[4]]\n",
              "[1] TRUE\n",
              "\n",
              "[[5]]\n",
              "[1] TRUE\n"
            ]
          },
          "metadata": {}
        }
      ],
      "source": [
        "#Install pkgs\n",
        "install.packages(c('janitor', dependencies = TRUE, repos = \"https://cran.rstudio.com/\"))\n",
        "x<-c('dplyr', 'magrittr','skimr','tidyr','janitor')\n",
        "lapply(x, require, character.only = TRUE)"
      ]
    },
    {
      "cell_type": "code",
      "source": [
        "#Read csv\n",
        "data <- read.csv(\"data.CSV\", header = TRUE)\n",
        "df <- data[, 1:24]  # Assuming columns A to X are indices 1 to 24\n",
        "head(df,2)"
      ],
      "metadata": {
        "colab": {
          "base_uri": "https://localhost:8080/",
          "height": 250
        },
        "id": "oguSriJDuNdn",
        "outputId": "08682714-7084-4df1-f36e-b0de5e2643d4"
      },
      "execution_count": 62,
      "outputs": [
        {
          "output_type": "display_data",
          "data": {
            "text/html": [
              "<table class=\"dataframe\">\n",
              "<caption>A data.frame: 2 × 24</caption>\n",
              "<thead>\n",
              "\t<tr><th></th><th scope=col>ProductionMonth</th><th scope=col>OperatorBAID</th><th scope=col>OperatorName</th><th scope=col>ReportingFacilityID</th><th scope=col>ReportingFacilityProvinceState</th><th scope=col>ReportingFacilityType</th><th scope=col>ReportingFacilityIdentifier</th><th scope=col>ReportingFacilityName</th><th scope=col>ReportingFacilitySubType</th><th scope=col>ReportingFacilitySubTypeDesc</th><th scope=col>⋯</th><th scope=col>FacilityRange</th><th scope=col>FacilityMeridian</th><th scope=col>SubmissionDate</th><th scope=col>ActivityID</th><th scope=col>ProductID</th><th scope=col>FromToID</th><th scope=col>FromToIDProvinceState</th><th scope=col>FromToIDType</th><th scope=col>FromToIDIdentifier</th><th scope=col>Volume</th></tr>\n",
              "\t<tr><th></th><th scope=col>&lt;chr&gt;</th><th scope=col>&lt;chr&gt;</th><th scope=col>&lt;chr&gt;</th><th scope=col>&lt;chr&gt;</th><th scope=col>&lt;chr&gt;</th><th scope=col>&lt;chr&gt;</th><th scope=col>&lt;int&gt;</th><th scope=col>&lt;chr&gt;</th><th scope=col>&lt;int&gt;</th><th scope=col>&lt;chr&gt;</th><th scope=col>⋯</th><th scope=col>&lt;int&gt;</th><th scope=col>&lt;int&gt;</th><th scope=col>&lt;chr&gt;</th><th scope=col>&lt;chr&gt;</th><th scope=col>&lt;chr&gt;</th><th scope=col>&lt;chr&gt;</th><th scope=col>&lt;chr&gt;</th><th scope=col>&lt;chr&gt;</th><th scope=col>&lt;chr&gt;</th><th scope=col>&lt;chr&gt;</th></tr>\n",
              "</thead>\n",
              "<tbody>\n",
              "\t<tr><th scope=row>1</th><td>2023-04</td><td>0007</td><td>IMPERIAL OIL RESOURCES LIMITED</td><td>ABBT0051211</td><td>AB</td><td>BT</td><td>51211</td><td>IMPERIAL MASKWA BATTERY 10-12</td><td>344</td><td>IN-SITU OIL SANDS</td><td>⋯</td><td>4</td><td>4</td><td>2023-05-19</td><td></td><td></td><td></td><td></td><td></td><td></td><td></td></tr>\n",
              "\t<tr><th scope=row>2</th><td>2023-04</td><td>0007</td><td>IMPERIAL OIL RESOURCES LIMITED</td><td>ABBT0051211</td><td>AB</td><td>BT</td><td>51211</td><td>IMPERIAL MASKWA BATTERY 10-12</td><td>344</td><td>IN-SITU OIL SANDS</td><td>⋯</td><td>4</td><td>4</td><td>2023-05-19</td><td></td><td></td><td></td><td></td><td></td><td></td><td></td></tr>\n",
              "</tbody>\n",
              "</table>\n"
            ],
            "text/markdown": "\nA data.frame: 2 × 24\n\n| <!--/--> | ProductionMonth &lt;chr&gt; | OperatorBAID &lt;chr&gt; | OperatorName &lt;chr&gt; | ReportingFacilityID &lt;chr&gt; | ReportingFacilityProvinceState &lt;chr&gt; | ReportingFacilityType &lt;chr&gt; | ReportingFacilityIdentifier &lt;int&gt; | ReportingFacilityName &lt;chr&gt; | ReportingFacilitySubType &lt;int&gt; | ReportingFacilitySubTypeDesc &lt;chr&gt; | ⋯ ⋯ | FacilityRange &lt;int&gt; | FacilityMeridian &lt;int&gt; | SubmissionDate &lt;chr&gt; | ActivityID &lt;chr&gt; | ProductID &lt;chr&gt; | FromToID &lt;chr&gt; | FromToIDProvinceState &lt;chr&gt; | FromToIDType &lt;chr&gt; | FromToIDIdentifier &lt;chr&gt; | Volume &lt;chr&gt; |\n|---|---|---|---|---|---|---|---|---|---|---|---|---|---|---|---|---|---|---|---|---|---|\n| 1 | 2023-04 | 0007 | IMPERIAL OIL RESOURCES LIMITED | ABBT0051211 | AB | BT | 51211 | IMPERIAL MASKWA BATTERY 10-12 | 344 | IN-SITU OIL SANDS | ⋯ | 4 | 4 | 2023-05-19 | <!----> | <!----> | <!----> | <!----> | <!----> | <!----> | <!----> |\n| 2 | 2023-04 | 0007 | IMPERIAL OIL RESOURCES LIMITED | ABBT0051211 | AB | BT | 51211 | IMPERIAL MASKWA BATTERY 10-12 | 344 | IN-SITU OIL SANDS | ⋯ | 4 | 4 | 2023-05-19 | <!----> | <!----> | <!----> | <!----> | <!----> | <!----> | <!----> |\n\n",
            "text/latex": "A data.frame: 2 × 24\n\\begin{tabular}{r|lllllllllllllllllllll}\n  & ProductionMonth & OperatorBAID & OperatorName & ReportingFacilityID & ReportingFacilityProvinceState & ReportingFacilityType & ReportingFacilityIdentifier & ReportingFacilityName & ReportingFacilitySubType & ReportingFacilitySubTypeDesc & ⋯ & FacilityRange & FacilityMeridian & SubmissionDate & ActivityID & ProductID & FromToID & FromToIDProvinceState & FromToIDType & FromToIDIdentifier & Volume\\\\\n  & <chr> & <chr> & <chr> & <chr> & <chr> & <chr> & <int> & <chr> & <int> & <chr> & ⋯ & <int> & <int> & <chr> & <chr> & <chr> & <chr> & <chr> & <chr> & <chr> & <chr>\\\\\n\\hline\n\t1 & 2023-04 & 0007 & IMPERIAL OIL RESOURCES LIMITED & ABBT0051211 & AB & BT & 51211 & IMPERIAL MASKWA BATTERY 10-12 & 344 & IN-SITU OIL SANDS & ⋯ & 4 & 4 & 2023-05-19 &  &  &  &  &  &  & \\\\\n\t2 & 2023-04 & 0007 & IMPERIAL OIL RESOURCES LIMITED & ABBT0051211 & AB & BT & 51211 & IMPERIAL MASKWA BATTERY 10-12 & 344 & IN-SITU OIL SANDS & ⋯ & 4 & 4 & 2023-05-19 &  &  &  &  &  &  & \\\\\n\\end{tabular}\n",
            "text/plain": [
              "  ProductionMonth OperatorBAID OperatorName                  \n",
              "1 2023-04         0007         IMPERIAL OIL RESOURCES LIMITED\n",
              "2 2023-04         0007         IMPERIAL OIL RESOURCES LIMITED\n",
              "  ReportingFacilityID ReportingFacilityProvinceState ReportingFacilityType\n",
              "1 ABBT0051211         AB                             BT                   \n",
              "2 ABBT0051211         AB                             BT                   \n",
              "  ReportingFacilityIdentifier ReportingFacilityName        \n",
              "1 51211                       IMPERIAL MASKWA BATTERY 10-12\n",
              "2 51211                       IMPERIAL MASKWA BATTERY 10-12\n",
              "  ReportingFacilitySubType ReportingFacilitySubTypeDesc ⋯ FacilityRange\n",
              "1 344                      IN-SITU OIL SANDS            ⋯ 4            \n",
              "2 344                      IN-SITU OIL SANDS            ⋯ 4            \n",
              "  FacilityMeridian SubmissionDate ActivityID ProductID FromToID\n",
              "1 4                2023-05-19                                  \n",
              "2 4                2023-05-19                                  \n",
              "  FromToIDProvinceState FromToIDType FromToIDIdentifier Volume\n",
              "1                                                             \n",
              "2                                                             "
            ]
          },
          "metadata": {}
        }
      ]
    },
    {
      "cell_type": "code",
      "source": [
        "#Inpect data quality & types\n",
        "skim_without_charts(df)"
      ],
      "metadata": {
        "colab": {
          "base_uri": "https://localhost:8080/",
          "height": 1000
        },
        "id": "o1xvKDISucN-",
        "outputId": "b5c5c9f9-50c8-4db1-fbc4-54da4f610cb8"
      },
      "execution_count": 63,
      "outputs": [
        {
          "output_type": "stream",
          "name": "stdout",
          "text": [
            "── Data Summary ────────────────────────\n",
            "                           Values\n",
            "Name                       df    \n",
            "Number of rows             556221\n",
            "Number of columns          24    \n",
            "_______________________          \n",
            "Column type frequency:           \n",
            "  character                17    \n",
            "  numeric                  7     \n",
            "________________________         \n",
            "Group variables            None  \n",
            "\n",
            "── Variable type: character ────────────────────────────────────────────────────\n",
            "   skim_variable                  n_missing complete_rate min max  empty\n",
            "\u001b[90m 1\u001b[39m ProductionMonth                        0             1   7   7      0\n",
            "\u001b[90m 2\u001b[39m OperatorBAID                           0             1   4   4      0\n",
            "\u001b[90m 3\u001b[39m OperatorName                           0             1   9  97      0\n",
            "\u001b[90m 4\u001b[39m ReportingFacilityID                    0             1  11  11      0\n",
            "\u001b[90m 5\u001b[39m ReportingFacilityProvinceState         0             1   2   2      0\n",
            "\u001b[90m 6\u001b[39m ReportingFacilityType                  0             1   2   2      0\n",
            "\u001b[90m 7\u001b[39m ReportingFacilityName                  0             1   2  36      0\n",
            "\u001b[90m 8\u001b[39m ReportingFacilitySubTypeDesc           0             1   8  58      0\n",
            "\u001b[90m 9\u001b[39m ReportingFacilityLocation              0             1  11  14      0\n",
            "\u001b[90m10\u001b[39m SubmissionDate                         0             1   0  10     26\n",
            "\u001b[90m11\u001b[39m ActivityID                             0             1   0   8   \u001b[4m7\u001b[24m872\n",
            "\u001b[90m12\u001b[39m ProductID                              0             1   0   6  \u001b[4m2\u001b[24m\u001b[4m0\u001b[24m841\n",
            "\u001b[90m13\u001b[39m FromToID                               0             1   0  20  \u001b[4m9\u001b[24m\u001b[4m3\u001b[24m221\n",
            "\u001b[90m14\u001b[39m FromToIDProvinceState                  0             1   0   2 \u001b[4m1\u001b[24m\u001b[4m0\u001b[24m\u001b[4m9\u001b[24m251\n",
            "\u001b[90m15\u001b[39m FromToIDType                           0             1   0   2 \u001b[4m1\u001b[24m\u001b[4m0\u001b[24m\u001b[4m9\u001b[24m251\n",
            "\u001b[90m16\u001b[39m FromToIDIdentifier                     0             1   0  16  \u001b[4m9\u001b[24m\u001b[4m4\u001b[24m418\n",
            "\u001b[90m17\u001b[39m Volume                                 0             1   0   9  \u001b[4m2\u001b[24m\u001b[4m0\u001b[24m841\n",
            "   n_unique whitespace\n",
            "\u001b[90m 1\u001b[39m        1          0\n",
            "\u001b[90m 2\u001b[39m      451          0\n",
            "\u001b[90m 3\u001b[39m      451          0\n",
            "\u001b[90m 4\u001b[39m    \u001b[4m2\u001b[24m\u001b[4m1\u001b[24m094          0\n",
            "\u001b[90m 5\u001b[39m        1          0\n",
            "\u001b[90m 6\u001b[39m        4          0\n",
            "\u001b[90m 7\u001b[39m    \u001b[4m2\u001b[24m\u001b[4m0\u001b[24m739          0\n",
            "\u001b[90m 8\u001b[39m       38          0\n",
            "\u001b[90m 9\u001b[39m    \u001b[4m1\u001b[24m\u001b[4m5\u001b[24m477          0\n",
            "\u001b[90m10\u001b[39m       21          0\n",
            "\u001b[90m11\u001b[39m       28          0\n",
            "\u001b[90m12\u001b[39m       37          0\n",
            "\u001b[90m13\u001b[39m   \u001b[4m1\u001b[24m\u001b[4m8\u001b[24m\u001b[4m1\u001b[24m827          0\n",
            "\u001b[90m14\u001b[39m        2          0\n",
            "\u001b[90m15\u001b[39m       24          0\n",
            "\u001b[90m16\u001b[39m   \u001b[4m1\u001b[24m\u001b[4m8\u001b[24m\u001b[4m1\u001b[24m786          0\n",
            "\u001b[90m17\u001b[39m    \u001b[4m3\u001b[24m\u001b[4m8\u001b[24m575          0\n",
            "\n",
            "── Variable type: numeric ──────────────────────────────────────────────────────\n",
            "  skim_variable               n_missing complete_rate       mean          sd\n",
            "\u001b[90m1\u001b[39m ReportingFacilityIdentifier         0             1 1\u001b[4m2\u001b[24m\u001b[4m5\u001b[24m\u001b[4m1\u001b[24m727.   2\u001b[4m6\u001b[24m\u001b[4m4\u001b[24m\u001b[4m7\u001b[24m001.   \n",
            "\u001b[90m2\u001b[39m ReportingFacilitySubType            0             1     361.        69.8  \n",
            "\u001b[90m3\u001b[39m FacilityLegalSubdivision            0             1       8.35       4.69 \n",
            "\u001b[90m4\u001b[39m FacilitySection                     0             1      18.4       10.3  \n",
            "\u001b[90m5\u001b[39m FacilityTownship                    0             1      48.3       20.6  \n",
            "\u001b[90m6\u001b[39m FacilityRange                       0             1      11.6        7.37 \n",
            "\u001b[90m7\u001b[39m FacilityMeridian                    0             1       4.60       0.686\n",
            "    p0   p25    p50    p75    p100\n",
            "\u001b[90m1\u001b[39m \u001b[4m1\u001b[24m001 \u001b[4m9\u001b[24m\u001b[4m1\u001b[24m368 \u001b[4m1\u001b[24m\u001b[4m2\u001b[24m\u001b[4m7\u001b[24m692 \u001b[4m1\u001b[24m\u001b[4m5\u001b[24m\u001b[4m8\u001b[24m654 9\u001b[4m9\u001b[24m\u001b[4m8\u001b[24m\u001b[4m2\u001b[24m097\n",
            "\u001b[90m2\u001b[39m  311   322    345    363     903\n",
            "\u001b[90m3\u001b[39m    1     4      8     12      16\n",
            "\u001b[90m4\u001b[39m    1     9     18     27      36\n",
            "\u001b[90m5\u001b[39m    1    34     48     63     122\n",
            "\u001b[90m6\u001b[39m    1     5     10     18      30\n",
            "\u001b[90m7\u001b[39m    4     4      4      5       6\n"
          ]
        },
        {
          "output_type": "error",
          "ename": "ERROR",
          "evalue": "ignored",
          "traceback": [
            "Error in is.null(text_repr) || nchar(text_repr) == 0L: 'length = 16' in coercion to 'logical(1)'\nTraceback:\n"
          ]
        }
      ]
    },
    {
      "cell_type": "code",
      "source": [
        "# Convert 'Volume' to numeric, ReportingFacilitySubType to integer\n",
        "df$Volume <- as.numeric(df$Volume)\n",
        "df$ReportingFacilitySubType <- as.integer(df$ReportingFacilitySubType)\n",
        "# Verify the data type of 'Volume'\n",
        "str(df$Volume) #  class(df$Volume)\n",
        "str(df$ReportingFacilitySubType) #  class(df$ReportingFacilitySubType)\n"
      ],
      "metadata": {
        "colab": {
          "base_uri": "https://localhost:8080/"
        },
        "id": "CGAxT1Z7yL2c",
        "outputId": "7a2e6896-6100-400c-9d64-a3286069c69d"
      },
      "execution_count": 64,
      "outputs": [
        {
          "output_type": "stream",
          "name": "stderr",
          "text": [
            "Warning message in eval(expr, envir, enclos):\n",
            "“NAs introduced by coercion”\n"
          ]
        },
        {
          "output_type": "stream",
          "name": "stdout",
          "text": [
            " num [1:556221] NA NA NA NA NA NA NA NA NA NA ...\n",
            " int [1:556221] 344 344 344 344 344 344 344 344 344 344 ...\n"
          ]
        }
      ]
    },
    {
      "cell_type": "markdown",
      "source": [
        "The below 5 are the operations to convert to numbers we want"
      ],
      "metadata": {
        "id": "5PqPtw8KJpAg"
      }
    },
    {
      "cell_type": "code",
      "source": [
        "(oil<-sum((df$Volume * 6.2925 / 30)[df$ActivityID ==\"PROD\" & df$ProductID == \"OIL\" & (df$ReportingFacilitySubType < 331 | df$ReportingFacilitySubType > 349) & !is.na(df$Volume)]))"
      ],
      "metadata": {
        "colab": {
          "base_uri": "https://localhost:8080/",
          "height": 34
        },
        "id": "ikvrKU_R0MY-",
        "outputId": "b509ca0a-9a22-4956-ceaf-779f90039870"
      },
      "execution_count": 66,
      "outputs": [
        {
          "output_type": "display_data",
          "data": {
            "text/html": [
              "530845.598725"
            ],
            "text/markdown": "530845.598725",
            "text/latex": "530845.598725",
            "text/plain": [
              "[1] 530845.6"
            ]
          },
          "metadata": {}
        }
      ]
    },
    {
      "cell_type": "code",
      "source": [
        "(cond<-sum((df$Volume * 6.2925 / 30)[df$ActivityID ==\"PROD\" & df$ProductID == \"COND\" & !is.na(df$Volume)]))"
      ],
      "metadata": {
        "colab": {
          "base_uri": "https://localhost:8080/",
          "height": 34
        },
        "id": "0Qjg2adtDco_",
        "outputId": "74262292-8aa5-482f-d1a1-5484334b9eeb"
      },
      "execution_count": 67,
      "outputs": [
        {
          "output_type": "display_data",
          "data": {
            "text/html": [
              "67891.16685"
            ],
            "text/markdown": "67891.16685",
            "text/latex": "67891.16685",
            "text/plain": [
              "[1] 67891.17"
            ]
          },
          "metadata": {}
        }
      ]
    },
    {
      "cell_type": "code",
      "source": [
        "(thermal<-sum((df$Volume * 6.29234 / 30)[df$ActivityID ==\"PROD\" & df$ProductID == \"OIL\" & df$ReportingFacilitySubType >= 331 & df$ReportingFacilitySubType <= 349 & !is.na(df$Volume)]))"
      ],
      "metadata": {
        "colab": {
          "base_uri": "https://localhost:8080/",
          "height": 34
        },
        "id": "us2h_ShZ7uw6",
        "outputId": "ca0e48be-9bbc-4b7d-c237-ba4e1ebf3b57"
      },
      "execution_count": 68,
      "outputs": [
        {
          "output_type": "display_data",
          "data": {
            "text/html": [
              "1664530.71726687"
            ],
            "text/markdown": "1664530.71726687",
            "text/latex": "1664530.71726687",
            "text/plain": [
              "[1] 1664531"
            ]
          },
          "metadata": {}
        }
      ]
    },
    {
      "cell_type": "code",
      "source": [
        "(c5<-sum((df$Volume )[df$ActivityID ==\"PROC\" & (df$ProductID == \"C5-MX\" | df$ProductID == \"C5-SP\")&!is.na(df$Volume)]))\n"
      ],
      "metadata": {
        "colab": {
          "base_uri": "https://localhost:8080/",
          "height": 34
        },
        "id": "a1w1PjJj89yH",
        "outputId": "311759e8-b406-49c9-aac7-d2f2b7ab4b00"
      },
      "execution_count": 69,
      "outputs": [
        {
          "output_type": "display_data",
          "data": {
            "text/html": [
              "1326285.6"
            ],
            "text/markdown": "1326285.6",
            "text/latex": "1326285.6",
            "text/plain": [
              "[1] 1326286"
            ]
          },
          "metadata": {}
        }
      ]
    },
    {
      "cell_type": "code",
      "source": [
        "(gas<-sum((df$Volume )[df$ActivityID ==\"PROD\" & df$ProductID == \"GAS\" &!is.na(df$Volume)]))"
      ],
      "metadata": {
        "colab": {
          "base_uri": "https://localhost:8080/",
          "height": 34
        },
        "id": "A6tJmNC8_m6A",
        "outputId": "9176b5e7-0bdb-4485-bbbe-cd231f1efdf8"
      },
      "execution_count": 71,
      "outputs": [
        {
          "output_type": "display_data",
          "data": {
            "text/html": [
              "11173237.4"
            ],
            "text/markdown": "11173237.4",
            "text/latex": "11173237.4",
            "text/plain": [
              "[1] 11173237"
            ]
          },
          "metadata": {}
        }
      ]
    },
    {
      "cell_type": "code",
      "source": [
        "#Print an array of results\n",
        "c (oil, cond, thermal, c5, gas)\n",
        "#oil-bpd, cond-bpd, thermal-bpd, c5-m3, gas-m3"
      ],
      "metadata": {
        "colab": {
          "base_uri": "https://localhost:8080/",
          "height": 34
        },
        "id": "vcl8nqUcEUg-",
        "outputId": "4e9e808f-8156-4ddd-aef8-d60d835f7f7c"
      },
      "execution_count": 72,
      "outputs": [
        {
          "output_type": "display_data",
          "data": {
            "text/html": [
              "<style>\n",
              ".list-inline {list-style: none; margin:0; padding: 0}\n",
              ".list-inline>li {display: inline-block}\n",
              ".list-inline>li:not(:last-child)::after {content: \"\\00b7\"; padding: 0 .5ex}\n",
              "</style>\n",
              "<ol class=list-inline><li>530845.598725</li><li>67891.16685</li><li>1664530.71726687</li><li>1326285.6</li><li>11173237.4</li></ol>\n"
            ],
            "text/markdown": "1. 530845.598725\n2. 67891.16685\n3. 1664530.71726687\n4. 1326285.6\n5. 11173237.4\n\n\n",
            "text/latex": "\\begin{enumerate*}\n\\item 530845.598725\n\\item 67891.16685\n\\item 1664530.71726687\n\\item 1326285.6\n\\item 11173237.4\n\\end{enumerate*}\n",
            "text/plain": [
              "[1]   530845.60    67891.17  1664530.72  1326285.60 11173237.40"
            ]
          },
          "metadata": {}
        }
      ]
    },
    {
      "cell_type": "code",
      "source": [],
      "metadata": {
        "id": "b2QEAFEbFD2Z"
      },
      "execution_count": null,
      "outputs": []
    }
  ]
}