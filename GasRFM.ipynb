{
  "nbformat": 4,
  "nbformat_minor": 0,
  "metadata": {
    "colab": {
      "provenance": [],
      "authorship_tag": "ABX9TyO53u4mgI4I4oMg6oDz0sHx",
      "include_colab_link": true
    },
    "kernelspec": {
      "name": "ir",
      "display_name": "R"
    },
    "language_info": {
      "name": "R"
    }
  },
  "cells": [
    {
      "cell_type": "markdown",
      "metadata": {
        "id": "view-in-github",
        "colab_type": "text"
      },
      "source": [
        "<a href=\"https://colab.research.google.com/github/antonysama/exploratory/blob/master/GasRFM.ipynb\" target=\"_parent\"><img src=\"https://colab.research.google.com/assets/colab-badge.svg\" alt=\"Open In Colab\"/></a>"
      ]
    },
    {
      "cell_type": "code",
      "execution_count": null,
      "metadata": {
        "colab": {
          "base_uri": "https://localhost:8080/",
          "height": 261
        },
        "id": "0j0vXfkS9Pl2",
        "outputId": "15fb338a-33bb-48b3-a673-83311a089198"
      },
      "outputs": [
        {
          "output_type": "stream",
          "name": "stderr",
          "text": [
            "Installing packages into ‘/usr/local/lib/R/site-library’\n",
            "(as ‘lib’ is unspecified)\n",
            "\n",
            "Warning message:\n",
            "“packages ‘TRUE’, ‘https://cran.rstudio.com/’ are not available for this version of R\n",
            "\n",
            "Versions of these packages for your version of R might be available elsewhere,\n",
            "see the ideas at\n",
            "https://cran.r-project.org/doc/manuals/r-patched/R-admin.html#Installing-packages”\n"
          ]
        },
        {
          "output_type": "display_data",
          "data": {
            "text/html": [
              "<ol>\n",
              "\t<li>TRUE</li>\n",
              "\t<li>TRUE</li>\n",
              "\t<li>TRUE</li>\n",
              "</ol>\n"
            ],
            "text/markdown": "1. TRUE\n2. TRUE\n3. TRUE\n\n\n",
            "text/latex": "\\begin{enumerate}\n\\item TRUE\n\\item TRUE\n\\item TRUE\n\\end{enumerate}\n",
            "text/plain": [
              "[[1]]\n",
              "[1] TRUE\n",
              "\n",
              "[[2]]\n",
              "[1] TRUE\n",
              "\n",
              "[[3]]\n",
              "[1] TRUE\n"
            ]
          },
          "metadata": {}
        }
      ],
      "source": [
        "#Install pkgs\n",
        "install.packages(c('readxl', 'lubridate', 'psych', dependencies = TRUE, repos = \"https://cran.rstudio.com/\"))\n",
        "x<-c('readxl', 'lubridate', 'psych')\n",
        "lapply(x, require, character.only = TRUE)"
      ]
    },
    {
      "cell_type": "code",
      "source": [
        "df<-read_excel('Gas_RFM.xlsx', sheet = \"Calculation Monthly\",skip =6  )\n",
        "head(df,2)"
      ],
      "metadata": {
        "colab": {
          "base_uri": "https://localhost:8080/",
          "height": 215
        },
        "id": "Eb2mj8HlAmvD",
        "outputId": "19a86fbf-ef75-4457-dd61-8a4aefcdc252"
      },
      "execution_count": null,
      "outputs": [
        {
          "output_type": "display_data",
          "data": {
            "text/html": [
              "<table class=\"dataframe\">\n",
              "<caption>A tibble: 2 × 2933</caption>\n",
              "<thead>\n",
              "\t<tr><th scope=col>Date</th><th scope=col>Fiscal_Year</th><th scope=col>Fiscal_Quarter</th><th scope=col>Cal_Year</th><th scope=col>EAD_Match</th><th scope=col>EAD_Match_Now</th><th scope=col>EAD_Annual_Match</th><th scope=col>RFM_Match</th><th scope=col>RFMAlternate_Match</th><th scope=col>RFM_Annual_Match</th><th scope=col>⋯</th><th scope=col>AllowCostRestrictAdjusted_CAD</th><th scope=col>AllowCostRestrictAdjusted_000CAD</th><th scope=col>Actl_TotalGCA_CAD</th><th scope=col>Fcst_TotalGCA_CAD</th><th scope=col>TotalGCA_CAD</th><th scope=col>TotalGCA_000CAD</th><th scope=col>Actl_NRRGasNGLs_000CAD</th><th scope=col>Fcst_NRRGasNGLs_000CAD</th><th scope=col>NRRGasNGLs_000CAD</th><th scope=col>EffRoyaltyRate_%</th></tr>\n",
              "\t<tr><th scope=col>&lt;dttm&gt;</th><th scope=col>&lt;chr&gt;</th><th scope=col>&lt;chr&gt;</th><th scope=col>&lt;dbl&gt;</th><th scope=col>&lt;dbl&gt;</th><th scope=col>&lt;dbl&gt;</th><th scope=col>&lt;dbl&gt;</th><th scope=col>&lt;dbl&gt;</th><th scope=col>&lt;dbl&gt;</th><th scope=col>&lt;dbl&gt;</th><th scope=col>⋯</th><th scope=col>&lt;dbl&gt;</th><th scope=col>&lt;dbl&gt;</th><th scope=col>&lt;dbl&gt;</th><th scope=col>&lt;dbl&gt;</th><th scope=col>&lt;dbl&gt;</th><th scope=col>&lt;dbl&gt;</th><th scope=col>&lt;dbl&gt;</th><th scope=col>&lt;dbl&gt;</th><th scope=col>&lt;dbl&gt;</th><th scope=col>&lt;dbl&gt;</th></tr>\n",
              "</thead>\n",
              "<tbody>\n",
              "\t<tr><td>2018-01-01</td><td>2017 / 2018</td><td>Qtr4</td><td>2018</td><td>109</td><td>109</td><td>10</td><td>NA</td><td>13</td><td>NA</td><td>⋯</td><td>8118163</td><td>8118.163</td><td>203121203</td><td>      NA</td><td>203121203</td><td>203121.20</td><td> 7358.149</td><td>NA</td><td> 7358.149</td><td>0.00625018</td></tr>\n",
              "\t<tr><td>2018-02-01</td><td>2017 / 2018</td><td>Qtr4</td><td>2018</td><td>110</td><td>110</td><td>10</td><td>NA</td><td>14</td><td>NA</td><td>⋯</td><td>8506928</td><td>8506.928</td><td>       NA</td><td>60953019</td><td> 60953019</td><td> 60953.02</td><td>48106.784</td><td>NA</td><td>48106.784</td><td>0.04667724</td></tr>\n",
              "</tbody>\n",
              "</table>\n"
            ],
            "text/markdown": "\nA tibble: 2 × 2933\n\n| Date &lt;dttm&gt; | Fiscal_Year &lt;chr&gt; | Fiscal_Quarter &lt;chr&gt; | Cal_Year &lt;dbl&gt; | EAD_Match &lt;dbl&gt; | EAD_Match_Now &lt;dbl&gt; | EAD_Annual_Match &lt;dbl&gt; | RFM_Match &lt;dbl&gt; | RFMAlternate_Match &lt;dbl&gt; | RFM_Annual_Match &lt;dbl&gt; | ⋯ ⋯ | AllowCostRestrictAdjusted_CAD &lt;dbl&gt; | AllowCostRestrictAdjusted_000CAD &lt;dbl&gt; | Actl_TotalGCA_CAD &lt;dbl&gt; | Fcst_TotalGCA_CAD &lt;dbl&gt; | TotalGCA_CAD &lt;dbl&gt; | TotalGCA_000CAD &lt;dbl&gt; | Actl_NRRGasNGLs_000CAD &lt;dbl&gt; | Fcst_NRRGasNGLs_000CAD &lt;dbl&gt; | NRRGasNGLs_000CAD &lt;dbl&gt; | EffRoyaltyRate_% &lt;dbl&gt; |\n|---|---|---|---|---|---|---|---|---|---|---|---|---|---|---|---|---|---|---|---|---|\n| 2018-01-01 | 2017 / 2018 | Qtr4 | 2018 | 109 | 109 | 10 | NA | 13 | NA | ⋯ | 8118163 | 8118.163 | 203121203 |       NA | 203121203 | 203121.20 |  7358.149 | NA |  7358.149 | 0.00625018 |\n| 2018-02-01 | 2017 / 2018 | Qtr4 | 2018 | 110 | 110 | 10 | NA | 14 | NA | ⋯ | 8506928 | 8506.928 |        NA | 60953019 |  60953019 |  60953.02 | 48106.784 | NA | 48106.784 | 0.04667724 |\n\n",
            "text/latex": "A tibble: 2 × 2933\n\\begin{tabular}{lllllllllllllllllllll}\n Date & Fiscal\\_Year & Fiscal\\_Quarter & Cal\\_Year & EAD\\_Match & EAD\\_Match\\_Now & EAD\\_Annual\\_Match & RFM\\_Match & RFMAlternate\\_Match & RFM\\_Annual\\_Match & ⋯ & AllowCostRestrictAdjusted\\_CAD & AllowCostRestrictAdjusted\\_000CAD & Actl\\_TotalGCA\\_CAD & Fcst\\_TotalGCA\\_CAD & TotalGCA\\_CAD & TotalGCA\\_000CAD & Actl\\_NRRGasNGLs\\_000CAD & Fcst\\_NRRGasNGLs\\_000CAD & NRRGasNGLs\\_000CAD & EffRoyaltyRate\\_\\%\\\\\n <dttm> & <chr> & <chr> & <dbl> & <dbl> & <dbl> & <dbl> & <dbl> & <dbl> & <dbl> & ⋯ & <dbl> & <dbl> & <dbl> & <dbl> & <dbl> & <dbl> & <dbl> & <dbl> & <dbl> & <dbl>\\\\\n\\hline\n\t 2018-01-01 & 2017 / 2018 & Qtr4 & 2018 & 109 & 109 & 10 & NA & 13 & NA & ⋯ & 8118163 & 8118.163 & 203121203 &       NA & 203121203 & 203121.20 &  7358.149 & NA &  7358.149 & 0.00625018\\\\\n\t 2018-02-01 & 2017 / 2018 & Qtr4 & 2018 & 110 & 110 & 10 & NA & 14 & NA & ⋯ & 8506928 & 8506.928 &        NA & 60953019 &  60953019 &  60953.02 & 48106.784 & NA & 48106.784 & 0.04667724\\\\\n\\end{tabular}\n",
            "text/plain": [
              "  Date       Fiscal_Year Fiscal_Quarter Cal_Year EAD_Match EAD_Match_Now\n",
              "1 2018-01-01 2017 / 2018 Qtr4           2018     109       109          \n",
              "2 2018-02-01 2017 / 2018 Qtr4           2018     110       110          \n",
              "  EAD_Annual_Match RFM_Match RFMAlternate_Match RFM_Annual_Match ⋯\n",
              "1 10               NA        13                 NA               ⋯\n",
              "2 10               NA        14                 NA               ⋯\n",
              "  AllowCostRestrictAdjusted_CAD AllowCostRestrictAdjusted_000CAD\n",
              "1 8118163                       8118.163                        \n",
              "2 8506928                       8506.928                        \n",
              "  Actl_TotalGCA_CAD Fcst_TotalGCA_CAD TotalGCA_CAD TotalGCA_000CAD\n",
              "1 203121203               NA          203121203    203121.20      \n",
              "2        NA         60953019           60953019     60953.02      \n",
              "  Actl_NRRGasNGLs_000CAD Fcst_NRRGasNGLs_000CAD NRRGasNGLs_000CAD\n",
              "1  7358.149              NA                      7358.149        \n",
              "2 48106.784              NA                     48106.784        \n",
              "  EffRoyaltyRate_%\n",
              "1 0.00625018      \n",
              "2 0.04667724      "
            ]
          },
          "metadata": {}
        }
      ]
    },
    {
      "cell_type": "code",
      "source": [
        "#Inpect data quality & types  ---- this was TOO BIG to inspect, but the pkg runs faster than skimr\n",
        "describe(df) # pckg psych"
      ],
      "metadata": {
        "id": "haX_7brsBELR"
      },
      "execution_count": null,
      "outputs": []
    },
    {
      "cell_type": "code",
      "source": [
        "#Inspect my variable of C5 price for type\n",
        "str(df$'C5RefPriceSpec_CAD/M3') #class can be used instead of str"
      ],
      "metadata": {
        "colab": {
          "base_uri": "https://localhost:8080/"
        },
        "id": "eG8IiOdZEYIV",
        "outputId": "34a42c7a-0255-4686-8b44-b9aef01996a3"
      },
      "execution_count": null,
      "outputs": [
        {
          "output_type": "stream",
          "name": "stdout",
          "text": [
            " num [1:240] 489 463 491 533 552 ...\n"
          ]
        }
      ]
    },
    {
      "cell_type": "code",
      "source": [
        "#Subset fiscal years and aggregate the mean for C5 spec price\n",
        "f_a <- subset(df, df$'Fiscal_Year' == \"2022 / 2023\" | df$'Fiscal_Year' == \"2023 / 2024\")\n",
        "\n",
        "aggregate(df_a$'C5RefPriceSpec_CAD/M3', by=list(df_a$'Fiscal_Year'),mean)"
      ],
      "metadata": {
        "colab": {
          "base_uri": "https://localhost:8080/",
          "height": 161
        },
        "id": "2XGL_CMPGC4h",
        "outputId": "b91caee1-21a9-496e-a42c-867dfd66516f"
      },
      "execution_count": null,
      "outputs": [
        {
          "output_type": "display_data",
          "data": {
            "text/html": [
              "<table class=\"dataframe\">\n",
              "<caption>A data.frame: 2 × 2</caption>\n",
              "<thead>\n",
              "\t<tr><th scope=col>Group.1</th><th scope=col>x</th></tr>\n",
              "\t<tr><th scope=col>&lt;chr&gt;</th><th scope=col>&lt;dbl&gt;</th></tr>\n",
              "</thead>\n",
              "<tbody>\n",
              "\t<tr><td>2022 / 2023</td><td>716.9585</td></tr>\n",
              "\t<tr><td>2023 / 2024</td><td>596.4336</td></tr>\n",
              "</tbody>\n",
              "</table>\n"
            ],
            "text/markdown": "\nA data.frame: 2 × 2\n\n| Group.1 &lt;chr&gt; | x &lt;dbl&gt; |\n|---|---|\n| 2022 / 2023 | 716.9585 |\n| 2023 / 2024 | 596.4336 |\n\n",
            "text/latex": "A data.frame: 2 × 2\n\\begin{tabular}{ll}\n Group.1 & x\\\\\n <chr> & <dbl>\\\\\n\\hline\n\t 2022 / 2023 & 716.9585\\\\\n\t 2023 / 2024 & 596.4336\\\\\n\\end{tabular}\n",
            "text/plain": [
              "  Group.1     x       \n",
              "1 2022 / 2023 716.9585\n",
              "2 2023 / 2024 596.4336"
            ]
          },
          "metadata": {}
        }
      ]
    },
    {
      "cell_type": "code",
      "source": [
        "#Also, create a new fscl_yr column, a numeric one as opposed to above chr\n",
        "df$fscl_yr <- ifelse ( month(df$Date)<4, year(df$Date)-1, year(df$Date) )"
      ],
      "metadata": {
        "id": "bzV3mUYSJv8Z"
      },
      "execution_count": null,
      "outputs": []
    },
    {
      "cell_type": "code",
      "source": [
        "#Inspect both fscl year columns\n",
        "head(df[, c(\"fscl_yr\", \"Fiscal_Year\")])"
      ],
      "metadata": {
        "colab": {
          "base_uri": "https://localhost:8080/",
          "height": 286
        },
        "id": "gKOZ2fH3LeXU",
        "outputId": "8f198632-e1ee-4c8e-bff5-096907b040bc"
      },
      "execution_count": null,
      "outputs": [
        {
          "output_type": "display_data",
          "data": {
            "text/html": [
              "<table class=\"dataframe\">\n",
              "<caption>A tibble: 6 × 2</caption>\n",
              "<thead>\n",
              "\t<tr><th scope=col>fscl_yr</th><th scope=col>Fiscal_Year</th></tr>\n",
              "\t<tr><th scope=col>&lt;dbl&gt;</th><th scope=col>&lt;chr&gt;</th></tr>\n",
              "</thead>\n",
              "<tbody>\n",
              "\t<tr><td>2017</td><td>2017 / 2018</td></tr>\n",
              "\t<tr><td>2017</td><td>2017 / 2018</td></tr>\n",
              "\t<tr><td>2017</td><td>2017 / 2018</td></tr>\n",
              "\t<tr><td>2018</td><td>2018 / 2019</td></tr>\n",
              "\t<tr><td>2018</td><td>2018 / 2019</td></tr>\n",
              "\t<tr><td>2018</td><td>2018 / 2019</td></tr>\n",
              "</tbody>\n",
              "</table>\n"
            ],
            "text/markdown": "\nA tibble: 6 × 2\n\n| fscl_yr &lt;dbl&gt; | Fiscal_Year &lt;chr&gt; |\n|---|---|\n| 2017 | 2017 / 2018 |\n| 2017 | 2017 / 2018 |\n| 2017 | 2017 / 2018 |\n| 2018 | 2018 / 2019 |\n| 2018 | 2018 / 2019 |\n| 2018 | 2018 / 2019 |\n\n",
            "text/latex": "A tibble: 6 × 2\n\\begin{tabular}{ll}\n fscl\\_yr & Fiscal\\_Year\\\\\n <dbl> & <chr>\\\\\n\\hline\n\t 2017 & 2017 / 2018\\\\\n\t 2017 & 2017 / 2018\\\\\n\t 2017 & 2017 / 2018\\\\\n\t 2018 & 2018 / 2019\\\\\n\t 2018 & 2018 / 2019\\\\\n\t 2018 & 2018 / 2019\\\\\n\\end{tabular}\n",
            "text/plain": [
              "  fscl_yr Fiscal_Year\n",
              "1 2017    2017 / 2018\n",
              "2 2017    2017 / 2018\n",
              "3 2017    2017 / 2018\n",
              "4 2018    2018 / 2019\n",
              "5 2018    2018 / 2019\n",
              "6 2018    2018 / 2019"
            ]
          },
          "metadata": {}
        }
      ]
    },
    {
      "cell_type": "code",
      "source": [
        "#Subset the new fiscal years and aggregate the mean for C5 spec price\n",
        "df_b <- subset(df, df$'fscl_yr' >= 2022 & df$'fscl_yr' <= 2024)\n",
        "aggregate(df_b$'C5RefPriceSpec_CAD/M3', by=list(df_b$'fscl_yr'),mean)"
      ],
      "metadata": {
        "colab": {
          "base_uri": "https://localhost:8080/",
          "height": 192
        },
        "id": "pT8kJnKPML9l",
        "outputId": "e8923e6b-1795-412a-e3b4-7c6c1a794324"
      },
      "execution_count": null,
      "outputs": [
        {
          "output_type": "display_data",
          "data": {
            "text/html": [
              "<table class=\"dataframe\">\n",
              "<caption>A data.frame: 3 × 2</caption>\n",
              "<thead>\n",
              "\t<tr><th scope=col>Group.1</th><th scope=col>x</th></tr>\n",
              "\t<tr><th scope=col>&lt;dbl&gt;</th><th scope=col>&lt;dbl&gt;</th></tr>\n",
              "</thead>\n",
              "<tbody>\n",
              "\t<tr><td>2022</td><td>716.9585</td></tr>\n",
              "\t<tr><td>2023</td><td>596.4336</td></tr>\n",
              "\t<tr><td>2024</td><td>583.6842</td></tr>\n",
              "</tbody>\n",
              "</table>\n"
            ],
            "text/markdown": "\nA data.frame: 3 × 2\n\n| Group.1 &lt;dbl&gt; | x &lt;dbl&gt; |\n|---|---|\n| 2022 | 716.9585 |\n| 2023 | 596.4336 |\n| 2024 | 583.6842 |\n\n",
            "text/latex": "A data.frame: 3 × 2\n\\begin{tabular}{ll}\n Group.1 & x\\\\\n <dbl> & <dbl>\\\\\n\\hline\n\t 2022 & 716.9585\\\\\n\t 2023 & 596.4336\\\\\n\t 2024 & 583.6842\\\\\n\\end{tabular}\n",
            "text/plain": [
              "  Group.1 x       \n",
              "1 2022    716.9585\n",
              "2 2023    596.4336\n",
              "3 2024    583.6842"
            ]
          },
          "metadata": {}
        }
      ]
    }
  ]
}