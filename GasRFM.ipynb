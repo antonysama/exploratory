{
  "nbformat": 4,
  "nbformat_minor": 0,
  "metadata": {
    "colab": {
      "provenance": [],
      "authorship_tag": "ABX9TyNypioklz0ohIAu4rXex853",
      "include_colab_link": true
    },
    "kernelspec": {
      "name": "ir",
      "display_name": "R"
    },
    "language_info": {
      "name": "R"
    }
  },
  "cells": [
    {
      "cell_type": "markdown",
      "metadata": {
        "id": "view-in-github",
        "colab_type": "text"
      },
      "source": [
        "<a href=\"https://colab.research.google.com/github/antonysama/exploratory/blob/master/GasRFM.ipynb\" target=\"_parent\"><img src=\"https://colab.research.google.com/assets/colab-badge.svg\" alt=\"Open In Colab\"/></a>"
      ]
    },
    {
      "cell_type": "code",
      "execution_count": 1,
      "metadata": {
        "colab": {
          "base_uri": "https://localhost:8080/",
          "height": 680
        },
        "id": "0j0vXfkS9Pl2",
        "outputId": "1d157e18-be71-488d-fb38-56a44492a80e"
      },
      "outputs": [
        {
          "output_type": "stream",
          "name": "stderr",
          "text": [
            "Loading required package: readxl\n",
            "\n",
            "Loading required package: lubridate\n",
            "\n",
            "\n",
            "Attaching package: ‘lubridate’\n",
            "\n",
            "\n",
            "The following objects are masked from ‘package:base’:\n",
            "\n",
            "    date, intersect, setdiff, union\n",
            "\n",
            "\n",
            "Loading required package: psych\n",
            "\n",
            "Loading required package: dplyr\n",
            "\n",
            "\n",
            "Attaching package: ‘dplyr’\n",
            "\n",
            "\n",
            "The following objects are masked from ‘package:stats’:\n",
            "\n",
            "    filter, lag\n",
            "\n",
            "\n",
            "The following objects are masked from ‘package:base’:\n",
            "\n",
            "    intersect, setdiff, setequal, union\n",
            "\n",
            "\n"
          ]
        },
        {
          "output_type": "display_data",
          "data": {
            "text/html": [
              "<ol>\n",
              "\t<li>TRUE</li>\n",
              "\t<li>TRUE</li>\n",
              "\t<li>TRUE</li>\n",
              "\t<li>TRUE</li>\n",
              "</ol>\n"
            ],
            "text/markdown": "1. TRUE\n2. TRUE\n3. TRUE\n4. TRUE\n\n\n",
            "text/latex": "\\begin{enumerate}\n\\item TRUE\n\\item TRUE\n\\item TRUE\n\\item TRUE\n\\end{enumerate}\n",
            "text/plain": [
              "[[1]]\n",
              "[1] TRUE\n",
              "\n",
              "[[2]]\n",
              "[1] TRUE\n",
              "\n",
              "[[3]]\n",
              "[1] TRUE\n",
              "\n",
              "[[4]]\n",
              "[1] TRUE\n"
            ]
          },
          "metadata": {}
        }
      ],
      "source": [
        "#Install pkgs\n",
        "# install.packages(c('readxl', 'lubridate', 'psych', dependencies = TRUE, repos = \"https://cran.rstudio.com/\"))\n",
        "x<-c('readxl', 'lubridate', 'psych', 'dplyr')\n",
        "lapply(x, require, character.only = TRUE)"
      ]
    },
    {
      "cell_type": "code",
      "source": [
        "df<-read_excel('Gas_RFM.xlsx', sheet = \"Calculation Monthly\",skip =6  )\n",
        "head(df,1)"
      ],
      "metadata": {
        "colab": {
          "base_uri": "https://localhost:8080/",
          "height": 167
        },
        "id": "Eb2mj8HlAmvD",
        "outputId": "8ef8a8a1-5f68-4406-d270-15e3395e3e28"
      },
      "execution_count": 2,
      "outputs": [
        {
          "output_type": "display_data",
          "data": {
            "text/html": [
              "<table class=\"dataframe\">\n",
              "<caption>A tibble: 1 × 2933</caption>\n",
              "<thead>\n",
              "\t<tr><th scope=col>Date</th><th scope=col>Fiscal_Year</th><th scope=col>Fiscal_Quarter</th><th scope=col>Cal_Year</th><th scope=col>EAD_Match</th><th scope=col>EAD_Match_Now</th><th scope=col>EAD_Annual_Match</th><th scope=col>RFM_Match</th><th scope=col>RFMAlternate_Match</th><th scope=col>RFM_Annual_Match</th><th scope=col>⋯</th><th scope=col>AllowCostRestrictAdjusted_CAD</th><th scope=col>AllowCostRestrictAdjusted_000CAD</th><th scope=col>Actl_TotalGCA_CAD</th><th scope=col>Fcst_TotalGCA_CAD</th><th scope=col>TotalGCA_CAD</th><th scope=col>TotalGCA_000CAD</th><th scope=col>Actl_NRRGasNGLs_000CAD</th><th scope=col>Fcst_NRRGasNGLs_000CAD</th><th scope=col>NRRGasNGLs_000CAD</th><th scope=col>EffRoyaltyRate_%</th></tr>\n",
              "\t<tr><th scope=col>&lt;dttm&gt;</th><th scope=col>&lt;chr&gt;</th><th scope=col>&lt;chr&gt;</th><th scope=col>&lt;dbl&gt;</th><th scope=col>&lt;dbl&gt;</th><th scope=col>&lt;dbl&gt;</th><th scope=col>&lt;dbl&gt;</th><th scope=col>&lt;dbl&gt;</th><th scope=col>&lt;dbl&gt;</th><th scope=col>&lt;dbl&gt;</th><th scope=col>⋯</th><th scope=col>&lt;dbl&gt;</th><th scope=col>&lt;dbl&gt;</th><th scope=col>&lt;dbl&gt;</th><th scope=col>&lt;dbl&gt;</th><th scope=col>&lt;dbl&gt;</th><th scope=col>&lt;dbl&gt;</th><th scope=col>&lt;dbl&gt;</th><th scope=col>&lt;dbl&gt;</th><th scope=col>&lt;dbl&gt;</th><th scope=col>&lt;dbl&gt;</th></tr>\n",
              "</thead>\n",
              "<tbody>\n",
              "\t<tr><td>2018-01-01</td><td>2017 / 2018</td><td>Qtr4</td><td>2018</td><td>109</td><td>109</td><td>10</td><td>NA</td><td>13</td><td>NA</td><td>⋯</td><td>8118163</td><td>8118.163</td><td>203121203</td><td>NA</td><td>203121203</td><td>203121.2</td><td>7358.149</td><td>NA</td><td>7358.149</td><td>0.00625018</td></tr>\n",
              "</tbody>\n",
              "</table>\n"
            ],
            "text/markdown": "\nA tibble: 1 × 2933\n\n| Date &lt;dttm&gt; | Fiscal_Year &lt;chr&gt; | Fiscal_Quarter &lt;chr&gt; | Cal_Year &lt;dbl&gt; | EAD_Match &lt;dbl&gt; | EAD_Match_Now &lt;dbl&gt; | EAD_Annual_Match &lt;dbl&gt; | RFM_Match &lt;dbl&gt; | RFMAlternate_Match &lt;dbl&gt; | RFM_Annual_Match &lt;dbl&gt; | ⋯ ⋯ | AllowCostRestrictAdjusted_CAD &lt;dbl&gt; | AllowCostRestrictAdjusted_000CAD &lt;dbl&gt; | Actl_TotalGCA_CAD &lt;dbl&gt; | Fcst_TotalGCA_CAD &lt;dbl&gt; | TotalGCA_CAD &lt;dbl&gt; | TotalGCA_000CAD &lt;dbl&gt; | Actl_NRRGasNGLs_000CAD &lt;dbl&gt; | Fcst_NRRGasNGLs_000CAD &lt;dbl&gt; | NRRGasNGLs_000CAD &lt;dbl&gt; | EffRoyaltyRate_% &lt;dbl&gt; |\n|---|---|---|---|---|---|---|---|---|---|---|---|---|---|---|---|---|---|---|---|---|\n| 2018-01-01 | 2017 / 2018 | Qtr4 | 2018 | 109 | 109 | 10 | NA | 13 | NA | ⋯ | 8118163 | 8118.163 | 203121203 | NA | 203121203 | 203121.2 | 7358.149 | NA | 7358.149 | 0.00625018 |\n\n",
            "text/latex": "A tibble: 1 × 2933\n\\begin{tabular}{lllllllllllllllllllll}\n Date & Fiscal\\_Year & Fiscal\\_Quarter & Cal\\_Year & EAD\\_Match & EAD\\_Match\\_Now & EAD\\_Annual\\_Match & RFM\\_Match & RFMAlternate\\_Match & RFM\\_Annual\\_Match & ⋯ & AllowCostRestrictAdjusted\\_CAD & AllowCostRestrictAdjusted\\_000CAD & Actl\\_TotalGCA\\_CAD & Fcst\\_TotalGCA\\_CAD & TotalGCA\\_CAD & TotalGCA\\_000CAD & Actl\\_NRRGasNGLs\\_000CAD & Fcst\\_NRRGasNGLs\\_000CAD & NRRGasNGLs\\_000CAD & EffRoyaltyRate\\_\\%\\\\\n <dttm> & <chr> & <chr> & <dbl> & <dbl> & <dbl> & <dbl> & <dbl> & <dbl> & <dbl> & ⋯ & <dbl> & <dbl> & <dbl> & <dbl> & <dbl> & <dbl> & <dbl> & <dbl> & <dbl> & <dbl>\\\\\n\\hline\n\t 2018-01-01 & 2017 / 2018 & Qtr4 & 2018 & 109 & 109 & 10 & NA & 13 & NA & ⋯ & 8118163 & 8118.163 & 203121203 & NA & 203121203 & 203121.2 & 7358.149 & NA & 7358.149 & 0.00625018\\\\\n\\end{tabular}\n",
            "text/plain": [
              "  Date       Fiscal_Year Fiscal_Quarter Cal_Year EAD_Match EAD_Match_Now\n",
              "1 2018-01-01 2017 / 2018 Qtr4           2018     109       109          \n",
              "  EAD_Annual_Match RFM_Match RFMAlternate_Match RFM_Annual_Match ⋯\n",
              "1 10               NA        13                 NA               ⋯\n",
              "  AllowCostRestrictAdjusted_CAD AllowCostRestrictAdjusted_000CAD\n",
              "1 8118163                       8118.163                        \n",
              "  Actl_TotalGCA_CAD Fcst_TotalGCA_CAD TotalGCA_CAD TotalGCA_000CAD\n",
              "1 203121203         NA                203121203    203121.2       \n",
              "  Actl_NRRGasNGLs_000CAD Fcst_NRRGasNGLs_000CAD NRRGasNGLs_000CAD\n",
              "1 7358.149               NA                     7358.149         \n",
              "  EffRoyaltyRate_%\n",
              "1 0.00625018      "
            ]
          },
          "metadata": {}
        }
      ]
    },
    {
      "cell_type": "code",
      "source": [
        "#Inpect data quality & types  ---- this was TOO BIG to inspect, but the pkg runs faster than skimr\n",
        "# describe(df) # pckg psych"
      ],
      "metadata": {
        "id": "haX_7brsBELR"
      },
      "execution_count": null,
      "outputs": []
    },
    {
      "cell_type": "code",
      "source": [
        "#Subset fiscal years and aggregate the mean for C5 spec price\n",
        "df_a <- subset(df, df$'Fiscal_Year' == \"2022 / 2023\" | df$'Fiscal_Year' == \"2023 / 2024\")\n",
        "\n",
        "aggregate(df_a$'C5RefPriceSpec_CAD/M3', by=list(df_a$'Fiscal_Year'),mean)"
      ],
      "metadata": {
        "colab": {
          "base_uri": "https://localhost:8080/",
          "height": 161
        },
        "id": "2XGL_CMPGC4h",
        "outputId": "500cf6e2-9d23-4fe6-be94-9176dcc79ed1"
      },
      "execution_count": 3,
      "outputs": [
        {
          "output_type": "display_data",
          "data": {
            "text/html": [
              "<table class=\"dataframe\">\n",
              "<caption>A data.frame: 2 × 2</caption>\n",
              "<thead>\n",
              "\t<tr><th scope=col>Group.1</th><th scope=col>x</th></tr>\n",
              "\t<tr><th scope=col>&lt;chr&gt;</th><th scope=col>&lt;dbl&gt;</th></tr>\n",
              "</thead>\n",
              "<tbody>\n",
              "\t<tr><td>2022 / 2023</td><td>719.8525</td></tr>\n",
              "\t<tr><td>2023 / 2024</td><td>594.7277</td></tr>\n",
              "</tbody>\n",
              "</table>\n"
            ],
            "text/markdown": "\nA data.frame: 2 × 2\n\n| Group.1 &lt;chr&gt; | x &lt;dbl&gt; |\n|---|---|\n| 2022 / 2023 | 719.8525 |\n| 2023 / 2024 | 594.7277 |\n\n",
            "text/latex": "A data.frame: 2 × 2\n\\begin{tabular}{ll}\n Group.1 & x\\\\\n <chr> & <dbl>\\\\\n\\hline\n\t 2022 / 2023 & 719.8525\\\\\n\t 2023 / 2024 & 594.7277\\\\\n\\end{tabular}\n",
            "text/plain": [
              "  Group.1     x       \n",
              "1 2022 / 2023 719.8525\n",
              "2 2023 / 2024 594.7277"
            ]
          },
          "metadata": {}
        }
      ]
    },
    {
      "cell_type": "code",
      "source": [
        "#inspect column type(Optionsl)\n",
        "str(df_a$'C5RefPriceSpec_CAD/M3')"
      ],
      "metadata": {
        "colab": {
          "base_uri": "https://localhost:8080/"
        },
        "id": "YB-fsamX3WcV",
        "outputId": "cab6abc8-3784-4732-d9ab-a7e390cb3a55"
      },
      "execution_count": 4,
      "outputs": [
        {
          "output_type": "stream",
          "name": "stdout",
          "text": [
            " num [1:24] 817 860 865 731 692 ...\n"
          ]
        }
      ]
    },
    {
      "cell_type": "code",
      "source": [
        "#Subset fiscal years and aggregate the sum for C5 production and mean for C5 spec price\n",
        "df_a %>%\n",
        "  group_by(Fiscal_Year) %>%\n",
        "  summarize(across(ProdC5TotalAll_000M3, sum), across('C5RefPriceSpec_CAD/M3', mean))\n",
        "\n"
      ],
      "metadata": {
        "colab": {
          "base_uri": "https://localhost:8080/",
          "height": 161
        },
        "id": "RTCP8jm0p8XE",
        "outputId": "28e7f66b-18be-4851-daf8-1bc0b680818b"
      },
      "execution_count": 53,
      "outputs": [
        {
          "output_type": "display_data",
          "data": {
            "text/html": [
              "<table class=\"dataframe\">\n",
              "<caption>A tibble: 2 × 3</caption>\n",
              "<thead>\n",
              "\t<tr><th scope=col>Fiscal_Year</th><th scope=col>ProdC5TotalAll_000M3</th><th scope=col>C5RefPriceSpec_CAD/M3</th></tr>\n",
              "\t<tr><th scope=col>&lt;chr&gt;</th><th scope=col>&lt;dbl&gt;</th><th scope=col>&lt;dbl&gt;</th></tr>\n",
              "</thead>\n",
              "<tbody>\n",
              "\t<tr><td>2022 / 2023</td><td>15228.73</td><td>719.8525</td></tr>\n",
              "\t<tr><td>2023 / 2024</td><td>14366.04</td><td>594.7277</td></tr>\n",
              "</tbody>\n",
              "</table>\n"
            ],
            "text/markdown": "\nA tibble: 2 × 3\n\n| Fiscal_Year &lt;chr&gt; | ProdC5TotalAll_000M3 &lt;dbl&gt; | C5RefPriceSpec_CAD/M3 &lt;dbl&gt; |\n|---|---|---|\n| 2022 / 2023 | 15228.73 | 719.8525 |\n| 2023 / 2024 | 14366.04 | 594.7277 |\n\n",
            "text/latex": "A tibble: 2 × 3\n\\begin{tabular}{lll}\n Fiscal\\_Year & ProdC5TotalAll\\_000M3 & C5RefPriceSpec\\_CAD/M3\\\\\n <chr> & <dbl> & <dbl>\\\\\n\\hline\n\t 2022 / 2023 & 15228.73 & 719.8525\\\\\n\t 2023 / 2024 & 14366.04 & 594.7277\\\\\n\\end{tabular}\n",
            "text/plain": [
              "  Fiscal_Year ProdC5TotalAll_000M3 C5RefPriceSpec_CAD/M3\n",
              "1 2022 / 2023 15228.73             719.8525             \n",
              "2 2023 / 2024 14366.04             594.7277             "
            ]
          },
          "metadata": {}
        }
      ]
    },
    {
      "cell_type": "code",
      "source": [
        "#Also, create a new fscl_yr column, a numeric one as opposed to above chr (Optional)\n",
        "df$fscl_yr <- ifelse ( month(df$Date)<4, year(df$Date)-1, year(df$Date) )\n",
        "\n",
        "#Inspect both fscl year columns\n",
        "head(df[, c(\"fscl_yr\", \"Fiscal_Year\")])"
      ],
      "metadata": {
        "colab": {
          "base_uri": "https://localhost:8080/",
          "height": 286
        },
        "id": "SzvFXhM4-I_6",
        "outputId": "28937948-063b-4dd5-bc32-475405dc6695"
      },
      "execution_count": 5,
      "outputs": [
        {
          "output_type": "display_data",
          "data": {
            "text/html": [
              "<table class=\"dataframe\">\n",
              "<caption>A tibble: 6 × 2</caption>\n",
              "<thead>\n",
              "\t<tr><th scope=col>fscl_yr</th><th scope=col>Fiscal_Year</th></tr>\n",
              "\t<tr><th scope=col>&lt;dbl&gt;</th><th scope=col>&lt;chr&gt;</th></tr>\n",
              "</thead>\n",
              "<tbody>\n",
              "\t<tr><td>2017</td><td>2017 / 2018</td></tr>\n",
              "\t<tr><td>2017</td><td>2017 / 2018</td></tr>\n",
              "\t<tr><td>2017</td><td>2017 / 2018</td></tr>\n",
              "\t<tr><td>2018</td><td>2018 / 2019</td></tr>\n",
              "\t<tr><td>2018</td><td>2018 / 2019</td></tr>\n",
              "\t<tr><td>2018</td><td>2018 / 2019</td></tr>\n",
              "</tbody>\n",
              "</table>\n"
            ],
            "text/markdown": "\nA tibble: 6 × 2\n\n| fscl_yr &lt;dbl&gt; | Fiscal_Year &lt;chr&gt; |\n|---|---|\n| 2017 | 2017 / 2018 |\n| 2017 | 2017 / 2018 |\n| 2017 | 2017 / 2018 |\n| 2018 | 2018 / 2019 |\n| 2018 | 2018 / 2019 |\n| 2018 | 2018 / 2019 |\n\n",
            "text/latex": "A tibble: 6 × 2\n\\begin{tabular}{ll}\n fscl\\_yr & Fiscal\\_Year\\\\\n <dbl> & <chr>\\\\\n\\hline\n\t 2017 & 2017 / 2018\\\\\n\t 2017 & 2017 / 2018\\\\\n\t 2017 & 2017 / 2018\\\\\n\t 2018 & 2018 / 2019\\\\\n\t 2018 & 2018 / 2019\\\\\n\t 2018 & 2018 / 2019\\\\\n\\end{tabular}\n",
            "text/plain": [
              "  fscl_yr Fiscal_Year\n",
              "1 2017    2017 / 2018\n",
              "2 2017    2017 / 2018\n",
              "3 2017    2017 / 2018\n",
              "4 2018    2018 / 2019\n",
              "5 2018    2018 / 2019\n",
              "6 2018    2018 / 2019"
            ]
          },
          "metadata": {}
        }
      ]
    }
  ]
}