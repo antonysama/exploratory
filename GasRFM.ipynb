{
  "nbformat": 4,
  "nbformat_minor": 0,
  "metadata": {
    "colab": {
      "provenance": [],
      "authorship_tag": "ABX9TyOH2iZKOSVAg2q2stTYQWih",
      "include_colab_link": true
    },
    "kernelspec": {
      "name": "ir",
      "display_name": "R"
    },
    "language_info": {
      "name": "R"
    }
  },
  "cells": [
    {
      "cell_type": "markdown",
      "metadata": {
        "id": "view-in-github",
        "colab_type": "text"
      },
      "source": [
        "<a href=\"https://colab.research.google.com/github/antonysama/exploratory/blob/master/GasRFM.ipynb\" target=\"_parent\"><img src=\"https://colab.research.google.com/assets/colab-badge.svg\" alt=\"Open In Colab\"/></a>"
      ]
    },
    {
      "cell_type": "code",
      "execution_count": null,
      "metadata": {
        "colab": {
          "base_uri": "https://localhost:8080/",
          "height": 626
        },
        "id": "0j0vXfkS9Pl2",
        "outputId": "e07ac0d3-17f1-4aee-e2d5-c66872dc82a0"
      },
      "outputs": [
        {
          "output_type": "stream",
          "name": "stderr",
          "text": [
            "Loading required package: readxl\n",
            "\n",
            "Loading required package: lubridate\n",
            "\n",
            "\n",
            "Attaching package: ‘lubridate’\n",
            "\n",
            "\n",
            "The following objects are masked from ‘package:base’:\n",
            "\n",
            "    date, intersect, setdiff, union\n",
            "\n",
            "\n",
            "Loading required package: dplyr\n",
            "\n",
            "\n",
            "Attaching package: ‘dplyr’\n",
            "\n",
            "\n",
            "The following objects are masked from ‘package:stats’:\n",
            "\n",
            "    filter, lag\n",
            "\n",
            "\n",
            "The following objects are masked from ‘package:base’:\n",
            "\n",
            "    intersect, setdiff, setequal, union\n",
            "\n",
            "\n"
          ]
        },
        {
          "output_type": "display_data",
          "data": {
            "text/html": [
              "<ol>\n",
              "\t<li>TRUE</li>\n",
              "\t<li>TRUE</li>\n",
              "\t<li>TRUE</li>\n",
              "</ol>\n"
            ],
            "text/markdown": "1. TRUE\n2. TRUE\n3. TRUE\n\n\n",
            "text/latex": "\\begin{enumerate}\n\\item TRUE\n\\item TRUE\n\\item TRUE\n\\end{enumerate}\n",
            "text/plain": [
              "[[1]]\n",
              "[1] TRUE\n",
              "\n",
              "[[2]]\n",
              "[1] TRUE\n",
              "\n",
              "[[3]]\n",
              "[1] TRUE\n"
            ]
          },
          "metadata": {}
        }
      ],
      "source": [
        "#Install pkgs\n",
        "# install.packages(c('readxl', 'lubridate', 'psych', dependencies = TRUE, repos = \"https://cran.rstudio.com/\"))\n",
        "x<-c('readxl', 'lubridate', 'dplyr') #'psych'\n",
        "lapply(x, require, character.only = TRUE)"
      ]
    },
    {
      "cell_type": "code",
      "source": [
        "#For the scenario mode, subset fiscal years and aggregate the sum for C5 production and mean for C5 spec price\n",
        "df<-read_excel('Gas_RFM.xlsx', sheet = \"Calculation Monthly\",skip =6  ) %>%\n",
        "  subset(Fiscal_Year == \"2022 / 2023\" | Fiscal_Year == \"2023 / 2024\") %>%\n",
        "  rename(C5RefPriceSpec_CAD_M3 = 'C5RefPriceSpec_CAD/M3') %>%\n",
        "  group_by(Fiscal_Year) %>%\n",
        "  summarize(across(ProdC5TotalAll_000M3, sum), across(C5RefPriceSpec_CAD_M3, mean))\n",
        "df"
      ],
      "metadata": {
        "colab": {
          "base_uri": "https://localhost:8080/",
          "height": 161
        },
        "id": "Eb2mj8HlAmvD",
        "outputId": "58bb4400-1ef3-490e-87d3-dba6c6e794cd"
      },
      "execution_count": 17,
      "outputs": [
        {
          "output_type": "display_data",
          "data": {
            "text/html": [
              "<table class=\"dataframe\">\n",
              "<caption>A tibble: 2 × 3</caption>\n",
              "<thead>\n",
              "\t<tr><th scope=col>Fiscal_Year</th><th scope=col>ProdC5TotalAll_000M3</th><th scope=col>C5RefPriceSpec_CAD_M3</th></tr>\n",
              "\t<tr><th scope=col>&lt;chr&gt;</th><th scope=col>&lt;dbl&gt;</th><th scope=col>&lt;dbl&gt;</th></tr>\n",
              "</thead>\n",
              "<tbody>\n",
              "\t<tr><td>2022 / 2023</td><td>15228.73</td><td>719.8525</td></tr>\n",
              "\t<tr><td>2023 / 2024</td><td>14366.04</td><td>594.7277</td></tr>\n",
              "</tbody>\n",
              "</table>\n"
            ],
            "text/markdown": "\nA tibble: 2 × 3\n\n| Fiscal_Year &lt;chr&gt; | ProdC5TotalAll_000M3 &lt;dbl&gt; | C5RefPriceSpec_CAD_M3 &lt;dbl&gt; |\n|---|---|---|\n| 2022 / 2023 | 15228.73 | 719.8525 |\n| 2023 / 2024 | 14366.04 | 594.7277 |\n\n",
            "text/latex": "A tibble: 2 × 3\n\\begin{tabular}{lll}\n Fiscal\\_Year & ProdC5TotalAll\\_000M3 & C5RefPriceSpec\\_CAD\\_M3\\\\\n <chr> & <dbl> & <dbl>\\\\\n\\hline\n\t 2022 / 2023 & 15228.73 & 719.8525\\\\\n\t 2023 / 2024 & 14366.04 & 594.7277\\\\\n\\end{tabular}\n",
            "text/plain": [
              "  Fiscal_Year ProdC5TotalAll_000M3 C5RefPriceSpec_CAD_M3\n",
              "1 2022 / 2023 15228.73             719.8525             \n",
              "2 2023 / 2024 14366.04             594.7277             "
            ]
          },
          "metadata": {}
        }
      ]
    },
    {
      "cell_type": "code",
      "source": [
        "#Do the same thing as above for Budget Gas RFM model\n",
        "dfb<-read_excel('BudgetGas_RFM.xlsx', sheet = \"Calculation Monthly\",skip =6  ) %>%\n",
        "  subset(Fiscal_Year == \"2022 / 2023\" | Fiscal_Year == \"2023 / 2024\") %>%\n",
        "  rename(C5RefPriceSpec_CAD_M3 = 'C5RefPriceSpec_CAD/M3') %>%\n",
        "  group_by(Fiscal_Year) %>%\n",
        "  summarize(across(ProdC5TotalAll_000M3, sum), across(C5RefPriceSpec_CAD_M3, mean))\n",
        "dfb"
      ],
      "metadata": {
        "colab": {
          "base_uri": "https://localhost:8080/",
          "height": 161
        },
        "id": "LlV_Sc0Lpj3g",
        "outputId": "ae2017fd-2630-45b6-d009-ec5928f1c967"
      },
      "execution_count": 18,
      "outputs": [
        {
          "output_type": "display_data",
          "data": {
            "text/html": [
              "<table class=\"dataframe\">\n",
              "<caption>A tibble: 2 × 3</caption>\n",
              "<thead>\n",
              "\t<tr><th scope=col>Fiscal_Year</th><th scope=col>ProdC5TotalAll_000M3</th><th scope=col>C5RefPriceSpec_CAD_M3</th></tr>\n",
              "\t<tr><th scope=col>&lt;chr&gt;</th><th scope=col>&lt;dbl&gt;</th><th scope=col>&lt;dbl&gt;</th></tr>\n",
              "</thead>\n",
              "<tbody>\n",
              "\t<tr><td>2022 / 2023</td><td>15424.40</td><td>720.0280</td></tr>\n",
              "\t<tr><td>2023 / 2024</td><td>16337.27</td><td>596.4336</td></tr>\n",
              "</tbody>\n",
              "</table>\n"
            ],
            "text/markdown": "\nA tibble: 2 × 3\n\n| Fiscal_Year &lt;chr&gt; | ProdC5TotalAll_000M3 &lt;dbl&gt; | C5RefPriceSpec_CAD_M3 &lt;dbl&gt; |\n|---|---|---|\n| 2022 / 2023 | 15424.40 | 720.0280 |\n| 2023 / 2024 | 16337.27 | 596.4336 |\n\n",
            "text/latex": "A tibble: 2 × 3\n\\begin{tabular}{lll}\n Fiscal\\_Year & ProdC5TotalAll\\_000M3 & C5RefPriceSpec\\_CAD\\_M3\\\\\n <chr> & <dbl> & <dbl>\\\\\n\\hline\n\t 2022 / 2023 & 15424.40 & 720.0280\\\\\n\t 2023 / 2024 & 16337.27 & 596.4336\\\\\n\\end{tabular}\n",
            "text/plain": [
              "  Fiscal_Year ProdC5TotalAll_000M3 C5RefPriceSpec_CAD_M3\n",
              "1 2022 / 2023 15424.40             720.0280             \n",
              "2 2023 / 2024 16337.27             596.4336             "
            ]
          },
          "metadata": {}
        }
      ]
    },
    {
      "cell_type": "code",
      "source": [
        "#Subtract df-dfb, by first join the two tibbles by the common Fiscal_Year column\n",
        "left_join(df, dfb, by = \"Fiscal_Year\") %>%\n",
        "  mutate(difference_ProdC5TotalAll_000M3 = ProdC5TotalAll_000M3.x - ProdC5TotalAll_000M3.y,\n",
        "         difference_C5RefPriceSpec_CAD_M3 = C5RefPriceSpec_CAD_M3.x - C5RefPriceSpec_CAD_M3.y)"
      ],
      "metadata": {
        "colab": {
          "base_uri": "https://localhost:8080/",
          "height": 161
        },
        "id": "orNDn3orqXuR",
        "outputId": "e2f197f7-fd3d-4077-a302-ee5d1670df32"
      },
      "execution_count": 22,
      "outputs": [
        {
          "output_type": "display_data",
          "data": {
            "text/html": [
              "<table class=\"dataframe\">\n",
              "<caption>A tibble: 2 × 7</caption>\n",
              "<thead>\n",
              "\t<tr><th scope=col>Fiscal_Year</th><th scope=col>ProdC5TotalAll_000M3.x</th><th scope=col>C5RefPriceSpec_CAD_M3.x</th><th scope=col>ProdC5TotalAll_000M3.y</th><th scope=col>C5RefPriceSpec_CAD_M3.y</th><th scope=col>difference_ProdC5TotalAll_000M3</th><th scope=col>difference_C5RefPriceSpec_CAD_M3</th></tr>\n",
              "\t<tr><th scope=col>&lt;chr&gt;</th><th scope=col>&lt;dbl&gt;</th><th scope=col>&lt;dbl&gt;</th><th scope=col>&lt;dbl&gt;</th><th scope=col>&lt;dbl&gt;</th><th scope=col>&lt;dbl&gt;</th><th scope=col>&lt;dbl&gt;</th></tr>\n",
              "</thead>\n",
              "<tbody>\n",
              "\t<tr><td>2022 / 2023</td><td>15228.73</td><td>719.8525</td><td>15424.40</td><td>720.0280</td><td> -195.6704</td><td>-0.1754772</td></tr>\n",
              "\t<tr><td>2023 / 2024</td><td>14366.04</td><td>594.7277</td><td>16337.27</td><td>596.4336</td><td>-1971.2317</td><td>-1.7058965</td></tr>\n",
              "</tbody>\n",
              "</table>\n"
            ],
            "text/markdown": "\nA tibble: 2 × 7\n\n| Fiscal_Year &lt;chr&gt; | ProdC5TotalAll_000M3.x &lt;dbl&gt; | C5RefPriceSpec_CAD_M3.x &lt;dbl&gt; | ProdC5TotalAll_000M3.y &lt;dbl&gt; | C5RefPriceSpec_CAD_M3.y &lt;dbl&gt; | difference_ProdC5TotalAll_000M3 &lt;dbl&gt; | difference_C5RefPriceSpec_CAD_M3 &lt;dbl&gt; |\n|---|---|---|---|---|---|---|\n| 2022 / 2023 | 15228.73 | 719.8525 | 15424.40 | 720.0280 |  -195.6704 | -0.1754772 |\n| 2023 / 2024 | 14366.04 | 594.7277 | 16337.27 | 596.4336 | -1971.2317 | -1.7058965 |\n\n",
            "text/latex": "A tibble: 2 × 7\n\\begin{tabular}{lllllll}\n Fiscal\\_Year & ProdC5TotalAll\\_000M3.x & C5RefPriceSpec\\_CAD\\_M3.x & ProdC5TotalAll\\_000M3.y & C5RefPriceSpec\\_CAD\\_M3.y & difference\\_ProdC5TotalAll\\_000M3 & difference\\_C5RefPriceSpec\\_CAD\\_M3\\\\\n <chr> & <dbl> & <dbl> & <dbl> & <dbl> & <dbl> & <dbl>\\\\\n\\hline\n\t 2022 / 2023 & 15228.73 & 719.8525 & 15424.40 & 720.0280 &  -195.6704 & -0.1754772\\\\\n\t 2023 / 2024 & 14366.04 & 594.7277 & 16337.27 & 596.4336 & -1971.2317 & -1.7058965\\\\\n\\end{tabular}\n",
            "text/plain": [
              "  Fiscal_Year ProdC5TotalAll_000M3.x C5RefPriceSpec_CAD_M3.x\n",
              "1 2022 / 2023 15228.73               719.8525               \n",
              "2 2023 / 2024 14366.04               594.7277               \n",
              "  ProdC5TotalAll_000M3.y C5RefPriceSpec_CAD_M3.y\n",
              "1 15424.40               720.0280               \n",
              "2 16337.27               596.4336               \n",
              "  difference_ProdC5TotalAll_000M3 difference_C5RefPriceSpec_CAD_M3\n",
              "1  -195.6704                      -0.1754772                      \n",
              "2 -1971.2317                      -1.7058965                      "
            ]
          },
          "metadata": {}
        }
      ]
    },
    {
      "cell_type": "code",
      "source": [
        "# (Optionsl) Inpect data quality & types  ---- this was TOO BIG to inspect, but the pkg runs faster than skimr\n",
        "# describe(df) # pckg psych"
      ],
      "metadata": {
        "id": "haX_7brsBELR"
      },
      "execution_count": null,
      "outputs": []
    },
    {
      "cell_type": "code",
      "source": [
        "#(OPTIONAL), create a new fscl_yr column, a numeric one as opposed to above chr (Optional)\n",
        "df$fscl_yr <- ifelse ( month(df$Date)<4, year(df$Date)-1, year(df$Date) )\n",
        "\n",
        "#Inspect both fscl year columns\n",
        "head(df[, c(\"fscl_yr\", \"Fiscal_Year\")])"
      ],
      "metadata": {
        "colab": {
          "base_uri": "https://localhost:8080/",
          "height": 286
        },
        "id": "SzvFXhM4-I_6",
        "outputId": "28937948-063b-4dd5-bc32-475405dc6695"
      },
      "execution_count": null,
      "outputs": [
        {
          "output_type": "display_data",
          "data": {
            "text/html": [
              "<table class=\"dataframe\">\n",
              "<caption>A tibble: 6 × 2</caption>\n",
              "<thead>\n",
              "\t<tr><th scope=col>fscl_yr</th><th scope=col>Fiscal_Year</th></tr>\n",
              "\t<tr><th scope=col>&lt;dbl&gt;</th><th scope=col>&lt;chr&gt;</th></tr>\n",
              "</thead>\n",
              "<tbody>\n",
              "\t<tr><td>2017</td><td>2017 / 2018</td></tr>\n",
              "\t<tr><td>2017</td><td>2017 / 2018</td></tr>\n",
              "\t<tr><td>2017</td><td>2017 / 2018</td></tr>\n",
              "\t<tr><td>2018</td><td>2018 / 2019</td></tr>\n",
              "\t<tr><td>2018</td><td>2018 / 2019</td></tr>\n",
              "\t<tr><td>2018</td><td>2018 / 2019</td></tr>\n",
              "</tbody>\n",
              "</table>\n"
            ],
            "text/markdown": "\nA tibble: 6 × 2\n\n| fscl_yr &lt;dbl&gt; | Fiscal_Year &lt;chr&gt; |\n|---|---|\n| 2017 | 2017 / 2018 |\n| 2017 | 2017 / 2018 |\n| 2017 | 2017 / 2018 |\n| 2018 | 2018 / 2019 |\n| 2018 | 2018 / 2019 |\n| 2018 | 2018 / 2019 |\n\n",
            "text/latex": "A tibble: 6 × 2\n\\begin{tabular}{ll}\n fscl\\_yr & Fiscal\\_Year\\\\\n <dbl> & <chr>\\\\\n\\hline\n\t 2017 & 2017 / 2018\\\\\n\t 2017 & 2017 / 2018\\\\\n\t 2017 & 2017 / 2018\\\\\n\t 2018 & 2018 / 2019\\\\\n\t 2018 & 2018 / 2019\\\\\n\t 2018 & 2018 / 2019\\\\\n\\end{tabular}\n",
            "text/plain": [
              "  fscl_yr Fiscal_Year\n",
              "1 2017    2017 / 2018\n",
              "2 2017    2017 / 2018\n",
              "3 2017    2017 / 2018\n",
              "4 2018    2018 / 2019\n",
              "5 2018    2018 / 2019\n",
              "6 2018    2018 / 2019"
            ]
          },
          "metadata": {}
        }
      ]
    }
  ]
}