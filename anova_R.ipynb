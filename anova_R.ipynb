{
  "nbformat": 4,
  "nbformat_minor": 0,
  "metadata": {
    "colab": {
      "name": "anova.ipynb",
      "provenance": []
    },
    "kernelspec": {
      "name": "python3",
      "display_name": "Python 3"
    },
    "language_info": {
      "name": "python"
    }
  },
  "cells": [
    {
      "cell_type": "markdown",
      "source": [
        "\n",
        "## Two-way Anova in R\n",
        "#### refernces: http://www.sthda.com/english/wiki/two-way-anova-test-in-r       \n",
        "#### https://rstudio-pubs-static.s3.amazonaws.com/67663_669e39c2153e4f8295f9d130abf07b7e.html\n",
        "#### data source : https://www.reneshbedre.com/blog/anova.html\n",
        "\n"
      ],
      "metadata": {
        "id": "fniRPAwB8oG_"
      }
    },
    {
      "cell_type": "code",
      "source": [
        "%reload_ext rpy2.ipython"
      ],
      "metadata": {
        "id": "B6hl3aLE86Ss"
      },
      "execution_count": 22,
      "outputs": []
    },
    {
      "cell_type": "code",
      "source": [
        "%%capture\n",
        "%%R\n",
        "install.packages(\"reshape\")"
      ],
      "metadata": {
        "id": "L5EmJ-AiEmne"
      },
      "execution_count": 25,
      "outputs": []
    },
    {
      "cell_type": "code",
      "source": [
        "%%capture\n",
        "%%R \n",
        "library(ggplot2) \n",
        "library(reshape)\n",
        "library(dplyr)\n",
        "library(tidyverse)"
      ],
      "metadata": {
        "id": "JM92_l3dDzZF"
      },
      "execution_count": 40,
      "outputs": []
    },
    {
      "cell_type": "code",
      "execution_count": 67,
      "metadata": {
        "colab": {
          "base_uri": "https://localhost:8080/"
        },
        "id": "Go-W9zSO8k-h",
        "outputId": "19429baa-4ee4-497c-ea19-3fc09657c9c4"
      },
      "outputs": [
        {
          "output_type": "stream",
          "name": "stdout",
          "text": [
            "  Genotype variable value\n",
            "1        A  X1_year  1.53\n",
            "2        A  X1_year  1.83\n",
            "3        A  X1_year  1.38\n",
            "4        B  X1_year  3.60\n",
            "5        B  X1_year  2.94\n",
            "6        B  X1_year  4.02\n"
          ]
        }
      ],
      "source": [
        "%%R \n",
        "# load data from the internet\n",
        "my_data <- my_data <- read.delim(\"https://reneshbedre.github.io/assets/posts/anova/twowayanova.txt\")\n",
        "#melt columns x1-x3\n",
        "my_data <- melt(my_data, id=c(\"Genotype\")) \n",
        "head(my_data)\n"
      ]
    },
    {
      "cell_type": "code",
      "source": [
        "%%R\n",
        "#Change variable name\n",
        "my_data <- my_data %>% \n",
        "      rename(Year=variable)\n",
        "\n",
        "str(my_data)"
      ],
      "metadata": {
        "colab": {
          "base_uri": "https://localhost:8080/"
        },
        "id": "JD3X1dgrH9M1",
        "outputId": "4a8512d2-19de-4e79-d8ba-b01d2115d1ec"
      },
      "execution_count": 68,
      "outputs": [
        {
          "output_type": "stream",
          "name": "stdout",
          "text": [
            "'data.frame':\t54 obs. of  3 variables:\n",
            " $ Genotype: chr  \"A\" \"A\" \"A\" \"B\" ...\n",
            " $ Year    : Factor w/ 3 levels \"X1_year\",\"X2_year\",..: 1 1 1 1 1 1 1 1 1 1 ...\n",
            " $ value   : num  1.53 1.83 1.38 3.6 2.94 4.02 3.99 3.3 4.41 3.75 ...\n"
          ]
        }
      ]
    },
    {
      "cell_type": "code",
      "source": [
        "%%R \n",
        "qplot(Genotype,value,data=my_data, facets=~Year, main=\"Value of _ by Genotype and Year\",xlab=\"Gentype\", ylab=\"Value\") + geom_boxplot(aes(fill = Genotype))"
      ],
      "metadata": {
        "colab": {
          "base_uri": "https://localhost:8080/",
          "height": 497
        },
        "id": "FdFMlcgALt7u",
        "outputId": "38bfba30-cbf8-4ff2-f198-8e86af148f72"
      },
      "execution_count": 72,
      "outputs": [
        {
          "output_type": "display_data",
          "data": {
            "image/png": "[encoded data removed]"
          },
          "metadata": {}
        }
      ]
    },
    {
      "cell_type": "code",
      "source": [
        "%%R\n",
        "# split the data\n",
        "Yr_1 = my_data$value[my_data$Year == 'X1_year']\n",
        "Yr_2 = my_data$value[my_data$Year == 'X2_year']\n",
        "Yr_3 = my_data$value[my_data$Year == 'X3_year']"
      ],
      "metadata": {
        "id": "2Ul0NV2MDvkt"
      },
      "execution_count": 71,
      "outputs": []
    },
    {
      "cell_type": "code",
      "source": [
        "%%R\n",
        "table(my_data$Genotype, my_data$Year)"
      ],
      "metadata": {
        "colab": {
          "base_uri": "https://localhost:8080/"
        },
        "id": "dl6HkjUy_upG",
        "outputId": "4a6df894-b883-45e0-ce9d-1f81645e356f"
      },
      "execution_count": 73,
      "outputs": [
        {
          "output_type": "stream",
          "name": "stdout",
          "text": [
            "   \n",
            "    X1_year X2_year X3_year\n",
            "  A       3       3       3\n",
            "  B       3       3       3\n",
            "  C       3       3       3\n",
            "  D       3       3       3\n",
            "  E       3       3       3\n",
            "  F       3       3       3\n"
          ]
        }
      ]
    },
    {
      "cell_type": "code",
      "source": [
        "%%R\n",
        "#From the ANOVA table we can conclude that both Genotype and Year are statistically significant, as well as their interaction\n",
        "res.aov3 <- aov(value ~ Genotype* Year, data = my_data)\n",
        "summary(res.aov3)"
      ],
      "metadata": {
        "colab": {
          "base_uri": "https://localhost:8080/"
        },
        "id": "-_unqp3gAodu",
        "outputId": "6f53d58e-1ed6-4871-8ca9-3e3b54ae5a79"
      },
      "execution_count": 74,
      "outputs": [
        {
          "output_type": "stream",
          "name": "stdout",
          "text": [
            "              Df Sum Sq Mean Sq F value   Pr(>F)    \n",
            "Genotype       5  58.55   11.71  32.749 1.93e-12 ***\n",
            "Year           2 278.93  139.46 390.015  < 2e-16 ***\n",
            "Genotype:Year 10  17.12    1.71   4.789 0.000223 ***\n",
            "Residuals     36  12.87    0.36                     \n",
            "---\n",
            "Signif. codes:  0 ‘***’ 0.001 ‘**’ 0.01 ‘*’ 0.05 ‘.’ 0.1 ‘ ’ 1\n"
          ]
        }
      ]
    },
    {
      "cell_type": "code",
      "source": [
        "%%R\n",
        "# Tukey pairwide comparision\n",
        "TukeyHSD(res.aov3, which = \"Genotype\")"
      ],
      "metadata": {
        "colab": {
          "base_uri": "https://localhost:8080/"
        },
        "id": "9YieTfbMBExQ",
        "outputId": "f73056d2-d74e-474c-8e37-5689017f0767"
      },
      "execution_count": 75,
      "outputs": [
        {
          "output_type": "stream",
          "name": "stdout",
          "text": [
            "  Tukey multiple comparisons of means\n",
            "    95% family-wise confidence level\n",
            "\n",
            "Fit: aov(formula = value ~ Genotype * Year, data = my_data)\n",
            "\n",
            "$Genotype\n",
            "           diff        lwr        upr     p adj\n",
            "B-A  2.04000000  1.1919076  2.8880924 0.0000002\n",
            "C-A  2.73333333  1.8852409  3.5814257 0.0000000\n",
            "D-A  2.56000000  1.7119076  3.4080924 0.0000000\n",
            "E-A  0.72000000 -0.1280924  1.5680924 0.1355132\n",
            "F-A  2.57333333  1.7252409  3.4214257 0.0000000\n",
            "C-B  0.69333333 -0.1547591  1.5414257 0.1634967\n",
            "D-B  0.52000000 -0.3280924  1.3680924 0.4513532\n",
            "E-B -1.32000000 -2.1680924 -0.4719076 0.0005279\n",
            "F-B  0.53333333 -0.3147591  1.3814257 0.4232898\n",
            "D-C -0.17333333 -1.0214257  0.6747591 0.9892318\n",
            "E-C -2.01333333 -2.8614257 -1.1652409 0.0000003\n",
            "F-C -0.16000000 -1.0080924  0.6880924 0.9925337\n",
            "E-D -1.84000000 -2.6880924 -0.9919076 0.0000020\n",
            "F-D  0.01333333 -0.8347591  0.8614257 1.0000000\n",
            "F-E  1.85333333  1.0052409  2.7014257 0.0000017\n",
            "\n"
          ]
        }
      ]
    }
  ]
}