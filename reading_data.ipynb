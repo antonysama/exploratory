{
  "nbformat": 4,
  "nbformat_minor": 0,
  "metadata": {
    "colab": {
      "provenance": [],
      "authorship_tag": "ABX9TyOS54SJCOV5mf77tPrXFyOT",
      "include_colab_link": true
    },
    "kernelspec": {
      "name": "ir",
      "display_name": "R"
    },
    "language_info": {
      "name": "R"
    }
  },
  "cells": [
    {
      "cell_type": "markdown",
      "metadata": {
        "id": "view-in-github",
        "colab_type": "text"
      },
      "source": [
        "<a href=\"https://colab.research.google.com/github/antonysama/exploratory/blob/master/reading_data.ipynb\" target=\"_parent\"><img src=\"https://colab.research.google.com/assets/colab-badge.svg\" alt=\"Open In Colab\"/></a>"
      ]
    },
    {
      "cell_type": "code",
      "execution_count": 222,
      "metadata": {
        "colab": {
          "base_uri": "https://localhost:8080/",
          "height": 186
        },
        "id": "Zh5mQrtX9MQj",
        "outputId": "53fa4b28-dda9-4682-bbaf-6ebe009df35c"
      },
      "outputs": [
        {
          "output_type": "stream",
          "name": "stderr",
          "text": [
            "Installing package into ‘/usr/local/lib/R/site-library’\n",
            "(as ‘lib’ is unspecified)\n",
            "\n"
          ]
        },
        {
          "output_type": "display_data",
          "data": {
            "text/html": [
              "<ol>\n",
              "\t<li>TRUE</li>\n",
              "\t<li>TRUE</li>\n",
              "\t<li>TRUE</li>\n",
              "\t<li>TRUE</li>\n",
              "\t<li>TRUE</li>\n",
              "</ol>\n"
            ],
            "text/markdown": "1. TRUE\n2. TRUE\n3. TRUE\n4. TRUE\n5. TRUE\n\n\n",
            "text/latex": "\\begin{enumerate}\n\\item TRUE\n\\item TRUE\n\\item TRUE\n\\item TRUE\n\\item TRUE\n\\end{enumerate}\n",
            "text/plain": [
              "[[1]]\n",
              "[1] TRUE\n",
              "\n",
              "[[2]]\n",
              "[1] TRUE\n",
              "\n",
              "[[3]]\n",
              "[1] TRUE\n",
              "\n",
              "[[4]]\n",
              "[1] TRUE\n",
              "\n",
              "[[5]]\n",
              "[1] TRUE\n"
            ]
          },
          "metadata": {}
        }
      ],
      "source": [
        "install.packages(\"skimr\")\n",
        "x<-c('readxl', 'lubridate', 'dplyr', 'tidyr', 'skimr')\n",
        "lapply(x, require, character.only = TRUE)"
      ]
    },
    {
      "cell_type": "code",
      "source": [
        "#read\n",
        "data <- read_excel(\"gen_input.xlsx\", sheet = \"data\", range = \"A1:bn102\")\n",
        "head(data)"
      ],
      "metadata": {
        "id": "iYL54tQ69tMG"
      },
      "execution_count": null,
      "outputs": []
    },
    {
      "cell_type": "code",
      "source": [
        "#Combine the primary and secondary headers , get rid of the old hader\n",
        "#Create a header bloc of both primary and secondary headers\n",
        "header_block <- read_excel(\"gen_input.xlsx\", range = \"A1:bn2\", col_names = FALSE)\n",
        "# Extract the primary and secondary header row (2nd row)\n",
        "header_row1_vector <- as.character(header_block[1,])\n",
        "header_row2_vector <- as.character(header_block[2,])\n",
        "# Now you can  combine headers\n",
        "combined_header <- paste(header_row1_vector, header_row2_vector)\n",
        "# Remove the first two rows from the data\n",
        "data <- data[-c(1), ]\n",
        "# Rename the columns with the combined header\n",
        "colnames(data) <- combined_header\n"
      ],
      "metadata": {
        "id": "XWoUF1BJHr_B"
      },
      "execution_count": null,
      "outputs": []
    },
    {
      "cell_type": "code",
      "source": [
        "skim_without_charts(data)"
      ],
      "metadata": {
        "id": "DEUzCNw7eRK1"
      },
      "execution_count": null,
      "outputs": []
    },
    {
      "cell_type": "code",
      "source": [
        "# unpivot all except 1st col; separate the Type col into two, make Value numeric\n",
        "data<-data %>% pivot_longer(cols = -'Hour NA', names_to = \"Type\", values_to = \"Value\") %>%\n",
        "  separate(Type, into = c(\"Bus\", \"Type\"), sep = \" \", remove = TRUE) %>%\n",
        "  mutate(Value = as.numeric(Value))"
      ],
      "metadata": {
        "id": "2bpS5-mjP6ey"
      },
      "execution_count": null,
      "outputs": []
    },
    {
      "cell_type": "code",
      "source": [
        "head(data)"
      ],
      "metadata": {
        "colab": {
          "base_uri": "https://localhost:8080/",
          "height": 286
        },
        "id": "y7-fCdJ9eqY9",
        "outputId": "4cd7e0aa-e7eb-480a-de64-341793f25e8e"
      },
      "execution_count": 249,
      "outputs": [
        {
          "output_type": "display_data",
          "data": {
            "text/html": [
              "<table class=\"dataframe\">\n",
              "<caption>A tibble: 6 × 4</caption>\n",
              "<thead>\n",
              "\t<tr><th scope=col>Hour NA</th><th scope=col>Bus</th><th scope=col>Type</th><th scope=col>Value</th></tr>\n",
              "\t<tr><th scope=col>&lt;dbl&gt;</th><th scope=col>&lt;chr&gt;</th><th scope=col>&lt;chr&gt;</th><th scope=col>&lt;dbl&gt;</th></tr>\n",
              "</thead>\n",
              "<tbody>\n",
              "\t<tr><td>0</td><td>BUS_0</td><td>Diesel </td><td> 46</td></tr>\n",
              "\t<tr><td>0</td><td>BUS_0</td><td>Gas    </td><td> 68</td></tr>\n",
              "\t<tr><td>0</td><td>BUS_0</td><td>Onshore</td><td> 91</td></tr>\n",
              "\t<tr><td>0</td><td>BUS_0</td><td>Other  </td><td> 79</td></tr>\n",
              "\t<tr><td>0</td><td>BUS_0</td><td>Large  </td><td>  5</td></tr>\n",
              "\t<tr><td>0</td><td>BUS_0</td><td>Solar  </td><td>144</td></tr>\n",
              "</tbody>\n",
              "</table>\n"
            ],
            "text/markdown": "\nA tibble: 6 × 4\n\n| Hour NA &lt;dbl&gt; | Bus &lt;chr&gt; | Type &lt;chr&gt; | Value &lt;dbl&gt; |\n|---|---|---|---|\n| 0 | BUS_0 | Diesel  |  46 |\n| 0 | BUS_0 | Gas     |  68 |\n| 0 | BUS_0 | Onshore |  91 |\n| 0 | BUS_0 | Other   |  79 |\n| 0 | BUS_0 | Large   |   5 |\n| 0 | BUS_0 | Solar   | 144 |\n\n",
            "text/latex": "A tibble: 6 × 4\n\\begin{tabular}{llll}\n Hour NA & Bus & Type & Value\\\\\n <dbl> & <chr> & <chr> & <dbl>\\\\\n\\hline\n\t 0 & BUS\\_0 & Diesel  &  46\\\\\n\t 0 & BUS\\_0 & Gas     &  68\\\\\n\t 0 & BUS\\_0 & Onshore &  91\\\\\n\t 0 & BUS\\_0 & Other   &  79\\\\\n\t 0 & BUS\\_0 & Large   &   5\\\\\n\t 0 & BUS\\_0 & Solar   & 144\\\\\n\\end{tabular}\n",
            "text/plain": [
              "  Hour NA Bus   Type    Value\n",
              "1 0       BUS_0 Diesel   46  \n",
              "2 0       BUS_0 Gas      68  \n",
              "3 0       BUS_0 Onshore  91  \n",
              "4 0       BUS_0 Other    79  \n",
              "5 0       BUS_0 Large     5  \n",
              "6 0       BUS_0 Solar   144  "
            ]
          },
          "metadata": {}
        }
      ]
    },
    {
      "cell_type": "code",
      "source": [
        "skim_without_charts(data)"
      ],
      "metadata": {
        "colab": {
          "base_uri": "https://localhost:8080/",
          "height": 491
        },
        "id": "yPekFld_qyC0",
        "outputId": "df8305a9-9ae6-4f8b-8730-9bac6e470c7e"
      },
      "execution_count": 250,
      "outputs": [
        {
          "output_type": "stream",
          "name": "stdout",
          "text": [
            "── Data Summary ────────────────────────\n",
            "                           Values\n",
            "Name                       data  \n",
            "Number of rows             6500  \n",
            "Number of columns          4     \n",
            "_______________________          \n",
            "Column type frequency:           \n",
            "  character                2     \n",
            "  numeric                  2     \n",
            "________________________         \n",
            "Group variables            None  \n",
            "\n",
            "── Variable type: character ────────────────────────────────────────────────────\n",
            "  skim_variable n_missing complete_rate min max empty n_unique whitespace\n",
            "\u001b[90m1\u001b[39m Bus                   0             1   5   5     0        8          0\n",
            "\u001b[90m2\u001b[39m Type                  0             1   3  10     0       14          0\n",
            "\n",
            "── Variable type: numeric ──────────────────────────────────────────────────────\n",
            "  skim_variable n_missing complete_rate mean   sd p0  p25  p50   p75 p100\n",
            "\u001b[90m1\u001b[39m Hour NA               0             1 49.5 28.9  0 24.8 49.5  74.2   99\n",
            "\u001b[90m2\u001b[39m Value                 0             1 74.8 43.8  0 37   74   113    150\n"
          ]
        },
        {
          "output_type": "error",
          "ename": "ERROR",
          "evalue": "ignored",
          "traceback": [
            "Error in is.null(text_repr) || nchar(text_repr) == 0L: 'length = 16' in coercion to 'logical(1)'\nTraceback:\n"
          ]
        }
      ]
    },
    {
      "cell_type": "code",
      "source": [
        "library(tidyverse)\n",
        "\n",
        " data %>%   select(-'Type') %>%\n",
        "  pivot_wider(names_from = Bus, values_from = Value, values_fn = sum)"
      ],
      "metadata": {
        "colab": {
          "base_uri": "https://localhost:8080/",
          "height": 1000
        },
        "id": "-3L-BR2Qru58",
        "outputId": "fcfd1f1f-5f8b-4142-9217-b8557a65d1a7"
      },
      "execution_count": 256,
      "outputs": [
        {
          "output_type": "display_data",
          "data": {
            "text/html": [
              "<table class=\"dataframe\">\n",
              "<caption>A tibble: 100 × 9</caption>\n",
              "<thead>\n",
              "\t<tr><th scope=col>Hour NA</th><th scope=col>BUS_0</th><th scope=col>BUS_1</th><th scope=col>BUS_2</th><th scope=col>BUS_3</th><th scope=col>BUS_4</th><th scope=col>BUS_5</th><th scope=col>BUS_6</th><th scope=col>BUS_7</th></tr>\n",
              "\t<tr><th scope=col>&lt;dbl&gt;</th><th scope=col>&lt;dbl&gt;</th><th scope=col>&lt;dbl&gt;</th><th scope=col>&lt;dbl&gt;</th><th scope=col>&lt;dbl&gt;</th><th scope=col>&lt;dbl&gt;</th><th scope=col>&lt;dbl&gt;</th><th scope=col>&lt;dbl&gt;</th><th scope=col>&lt;dbl&gt;</th></tr>\n",
              "</thead>\n",
              "<tbody>\n",
              "\t<tr><td> 0</td><td>480</td><td>323</td><td>683</td><td>544</td><td>332</td><td>722</td><td> 844</td><td>791</td></tr>\n",
              "\t<tr><td> 1</td><td>663</td><td>452</td><td>617</td><td>452</td><td>199</td><td>516</td><td>1073</td><td>524</td></tr>\n",
              "\t<tr><td> 2</td><td>686</td><td>557</td><td>692</td><td>430</td><td>427</td><td>496</td><td> 687</td><td>768</td></tr>\n",
              "\t<tr><td> 3</td><td>421</td><td>452</td><td>878</td><td>584</td><td>176</td><td>695</td><td> 949</td><td>509</td></tr>\n",
              "\t<tr><td> 4</td><td>473</td><td>626</td><td>701</td><td>499</td><td>477</td><td>822</td><td> 886</td><td>717</td></tr>\n",
              "\t<tr><td> 5</td><td>325</td><td>588</td><td>633</td><td>600</td><td>294</td><td>824</td><td> 793</td><td>588</td></tr>\n",
              "\t<tr><td> 6</td><td>509</td><td>701</td><td>713</td><td>416</td><td>284</td><td>914</td><td> 908</td><td>713</td></tr>\n",
              "\t<tr><td> 7</td><td>485</td><td>469</td><td>534</td><td>694</td><td>176</td><td>564</td><td> 994</td><td>521</td></tr>\n",
              "\t<tr><td> 8</td><td>362</td><td>664</td><td>575</td><td>771</td><td>228</td><td>473</td><td>1312</td><td>579</td></tr>\n",
              "\t<tr><td> 9</td><td>734</td><td>659</td><td>929</td><td>546</td><td>410</td><td>635</td><td> 981</td><td>670</td></tr>\n",
              "\t<tr><td>10</td><td>605</td><td>473</td><td>871</td><td>422</td><td>205</td><td>840</td><td> 643</td><td>705</td></tr>\n",
              "\t<tr><td>11</td><td>496</td><td>417</td><td>683</td><td>685</td><td>406</td><td>462</td><td> 845</td><td>782</td></tr>\n",
              "\t<tr><td>12</td><td>519</td><td>596</td><td>508</td><td>706</td><td>352</td><td>546</td><td>1071</td><td>448</td></tr>\n",
              "\t<tr><td>13</td><td>420</td><td>722</td><td>674</td><td>522</td><td>345</td><td>368</td><td> 922</td><td>572</td></tr>\n",
              "\t<tr><td>14</td><td>745</td><td>518</td><td>601</td><td>559</td><td>242</td><td>608</td><td>1019</td><td>648</td></tr>\n",
              "\t<tr><td>15</td><td>583</td><td>610</td><td>835</td><td>611</td><td>245</td><td>781</td><td> 795</td><td>761</td></tr>\n",
              "\t<tr><td>16</td><td>424</td><td>690</td><td>552</td><td>809</td><td>261</td><td>739</td><td> 802</td><td>804</td></tr>\n",
              "\t<tr><td>17</td><td>468</td><td>512</td><td>502</td><td>630</td><td>187</td><td>609</td><td> 805</td><td>709</td></tr>\n",
              "\t<tr><td>18</td><td>406</td><td>538</td><td>574</td><td>508</td><td>326</td><td>596</td><td> 828</td><td>556</td></tr>\n",
              "\t<tr><td>19</td><td>649</td><td>543</td><td>512</td><td>727</td><td>318</td><td>466</td><td> 950</td><td>799</td></tr>\n",
              "\t<tr><td>20</td><td>531</td><td>561</td><td>882</td><td>639</td><td>291</td><td>579</td><td>1004</td><td>499</td></tr>\n",
              "\t<tr><td>21</td><td>358</td><td>530</td><td>738</td><td>620</td><td>326</td><td>612</td><td> 715</td><td>680</td></tr>\n",
              "\t<tr><td>22</td><td>381</td><td>561</td><td>552</td><td>453</td><td>326</td><td>630</td><td>1204</td><td>736</td></tr>\n",
              "\t<tr><td>23</td><td>724</td><td>491</td><td>498</td><td>713</td><td>270</td><td>570</td><td> 941</td><td>660</td></tr>\n",
              "\t<tr><td>24</td><td>467</td><td>720</td><td>960</td><td>640</td><td>284</td><td>570</td><td> 912</td><td>622</td></tr>\n",
              "\t<tr><td>25</td><td>610</td><td>422</td><td>532</td><td>524</td><td>128</td><td>829</td><td>1072</td><td>482</td></tr>\n",
              "\t<tr><td>26</td><td>517</td><td>456</td><td>522</td><td>626</td><td>364</td><td>712</td><td> 987</td><td>749</td></tr>\n",
              "\t<tr><td>27</td><td>642</td><td>623</td><td>683</td><td>685</td><td>320</td><td>701</td><td> 616</td><td>773</td></tr>\n",
              "\t<tr><td>28</td><td>575</td><td>536</td><td>687</td><td>662</td><td>348</td><td>588</td><td> 643</td><td>647</td></tr>\n",
              "\t<tr><td>29</td><td>642</td><td>585</td><td>777</td><td>655</td><td>359</td><td>758</td><td>1287</td><td>568</td></tr>\n",
              "\t<tr><td>⋮</td><td>⋮</td><td>⋮</td><td>⋮</td><td>⋮</td><td>⋮</td><td>⋮</td><td>⋮</td><td>⋮</td></tr>\n",
              "\t<tr><td>70</td><td>416</td><td>766</td><td>670</td><td>675</td><td>225</td><td>678</td><td> 827</td><td>749</td></tr>\n",
              "\t<tr><td>71</td><td>679</td><td>360</td><td>636</td><td>720</td><td>253</td><td>718</td><td>1004</td><td>692</td></tr>\n",
              "\t<tr><td>72</td><td>511</td><td>706</td><td>498</td><td>556</td><td>285</td><td>650</td><td>1024</td><td>523</td></tr>\n",
              "\t<tr><td>73</td><td>419</td><td>599</td><td>838</td><td>527</td><td>181</td><td>509</td><td>1072</td><td>821</td></tr>\n",
              "\t<tr><td>74</td><td>493</td><td>496</td><td>668</td><td>732</td><td>188</td><td>622</td><td> 920</td><td>530</td></tr>\n",
              "\t<tr><td>75</td><td>582</td><td>528</td><td>742</td><td>719</td><td>305</td><td>673</td><td> 846</td><td>762</td></tr>\n",
              "\t<tr><td>76</td><td>370</td><td>822</td><td>532</td><td>514</td><td>207</td><td>535</td><td> 919</td><td>871</td></tr>\n",
              "\t<tr><td>77</td><td>410</td><td>503</td><td>751</td><td>844</td><td>447</td><td>365</td><td> 895</td><td>499</td></tr>\n",
              "\t<tr><td>78</td><td>404</td><td>731</td><td>626</td><td>440</td><td>119</td><td>718</td><td> 946</td><td>768</td></tr>\n",
              "\t<tr><td>79</td><td>442</td><td>491</td><td>491</td><td>516</td><td>444</td><td>584</td><td> 756</td><td>595</td></tr>\n",
              "\t<tr><td>80</td><td>291</td><td>570</td><td>584</td><td>688</td><td>304</td><td>518</td><td> 896</td><td>781</td></tr>\n",
              "\t<tr><td>81</td><td>529</td><td>528</td><td>664</td><td>668</td><td>444</td><td>747</td><td> 917</td><td>699</td></tr>\n",
              "\t<tr><td>82</td><td>651</td><td>602</td><td>750</td><td>603</td><td>379</td><td>385</td><td> 898</td><td>645</td></tr>\n",
              "\t<tr><td>83</td><td>424</td><td>642</td><td>827</td><td>711</td><td>263</td><td>460</td><td> 834</td><td>385</td></tr>\n",
              "\t<tr><td>84</td><td>690</td><td>571</td><td>605</td><td>553</td><td>313</td><td>700</td><td> 876</td><td>664</td></tr>\n",
              "\t<tr><td>85</td><td>614</td><td>807</td><td>656</td><td>663</td><td>405</td><td>708</td><td> 843</td><td>855</td></tr>\n",
              "\t<tr><td>86</td><td>688</td><td>709</td><td>537</td><td>696</td><td>276</td><td>734</td><td>1062</td><td>576</td></tr>\n",
              "\t<tr><td>87</td><td>579</td><td>706</td><td>574</td><td>532</td><td>185</td><td>375</td><td> 748</td><td>593</td></tr>\n",
              "\t<tr><td>88</td><td>567</td><td>578</td><td>951</td><td>748</td><td>393</td><td>667</td><td> 965</td><td>709</td></tr>\n",
              "\t<tr><td>89</td><td>549</td><td>678</td><td>675</td><td>667</td><td>405</td><td>512</td><td> 860</td><td>872</td></tr>\n",
              "\t<tr><td>90</td><td>521</td><td>577</td><td>595</td><td>520</td><td>198</td><td>638</td><td> 678</td><td>426</td></tr>\n",
              "\t<tr><td>91</td><td>516</td><td>559</td><td>844</td><td>421</td><td>119</td><td>342</td><td> 997</td><td>596</td></tr>\n",
              "\t<tr><td>92</td><td>472</td><td>562</td><td>659</td><td>506</td><td>219</td><td>481</td><td> 901</td><td>608</td></tr>\n",
              "\t<tr><td>93</td><td>387</td><td>758</td><td>761</td><td>393</td><td>338</td><td>582</td><td> 715</td><td>780</td></tr>\n",
              "\t<tr><td>94</td><td>440</td><td>724</td><td>563</td><td>648</td><td>302</td><td>750</td><td> 898</td><td>592</td></tr>\n",
              "\t<tr><td>95</td><td>609</td><td>577</td><td>735</td><td>791</td><td>160</td><td>726</td><td> 842</td><td>464</td></tr>\n",
              "\t<tr><td>96</td><td>510</td><td>661</td><td>715</td><td>496</td><td>321</td><td>705</td><td> 805</td><td>594</td></tr>\n",
              "\t<tr><td>97</td><td>661</td><td>810</td><td>657</td><td>580</td><td>185</td><td>433</td><td> 880</td><td>684</td></tr>\n",
              "\t<tr><td>98</td><td>484</td><td>689</td><td>829</td><td>469</td><td>423</td><td>787</td><td> 901</td><td>561</td></tr>\n",
              "\t<tr><td>99</td><td>377</td><td>801</td><td>581</td><td>696</td><td>142</td><td>604</td><td>1044</td><td>601</td></tr>\n",
              "</tbody>\n",
              "</table>\n"
            ],
            "text/markdown": "\nA tibble: 100 × 9\n\n| Hour NA &lt;dbl&gt; | BUS_0 &lt;dbl&gt; | BUS_1 &lt;dbl&gt; | BUS_2 &lt;dbl&gt; | BUS_3 &lt;dbl&gt; | BUS_4 &lt;dbl&gt; | BUS_5 &lt;dbl&gt; | BUS_6 &lt;dbl&gt; | BUS_7 &lt;dbl&gt; |\n|---|---|---|---|---|---|---|---|---|\n|  0 | 480 | 323 | 683 | 544 | 332 | 722 |  844 | 791 |\n|  1 | 663 | 452 | 617 | 452 | 199 | 516 | 1073 | 524 |\n|  2 | 686 | 557 | 692 | 430 | 427 | 496 |  687 | 768 |\n|  3 | 421 | 452 | 878 | 584 | 176 | 695 |  949 | 509 |\n|  4 | 473 | 626 | 701 | 499 | 477 | 822 |  886 | 717 |\n|  5 | 325 | 588 | 633 | 600 | 294 | 824 |  793 | 588 |\n|  6 | 509 | 701 | 713 | 416 | 284 | 914 |  908 | 713 |\n|  7 | 485 | 469 | 534 | 694 | 176 | 564 |  994 | 521 |\n|  8 | 362 | 664 | 575 | 771 | 228 | 473 | 1312 | 579 |\n|  9 | 734 | 659 | 929 | 546 | 410 | 635 |  981 | 670 |\n| 10 | 605 | 473 | 871 | 422 | 205 | 840 |  643 | 705 |\n| 11 | 496 | 417 | 683 | 685 | 406 | 462 |  845 | 782 |\n| 12 | 519 | 596 | 508 | 706 | 352 | 546 | 1071 | 448 |\n| 13 | 420 | 722 | 674 | 522 | 345 | 368 |  922 | 572 |\n| 14 | 745 | 518 | 601 | 559 | 242 | 608 | 1019 | 648 |\n| 15 | 583 | 610 | 835 | 611 | 245 | 781 |  795 | 761 |\n| 16 | 424 | 690 | 552 | 809 | 261 | 739 |  802 | 804 |\n| 17 | 468 | 512 | 502 | 630 | 187 | 609 |  805 | 709 |\n| 18 | 406 | 538 | 574 | 508 | 326 | 596 |  828 | 556 |\n| 19 | 649 | 543 | 512 | 727 | 318 | 466 |  950 | 799 |\n| 20 | 531 | 561 | 882 | 639 | 291 | 579 | 1004 | 499 |\n| 21 | 358 | 530 | 738 | 620 | 326 | 612 |  715 | 680 |\n| 22 | 381 | 561 | 552 | 453 | 326 | 630 | 1204 | 736 |\n| 23 | 724 | 491 | 498 | 713 | 270 | 570 |  941 | 660 |\n| 24 | 467 | 720 | 960 | 640 | 284 | 570 |  912 | 622 |\n| 25 | 610 | 422 | 532 | 524 | 128 | 829 | 1072 | 482 |\n| 26 | 517 | 456 | 522 | 626 | 364 | 712 |  987 | 749 |\n| 27 | 642 | 623 | 683 | 685 | 320 | 701 |  616 | 773 |\n| 28 | 575 | 536 | 687 | 662 | 348 | 588 |  643 | 647 |\n| 29 | 642 | 585 | 777 | 655 | 359 | 758 | 1287 | 568 |\n| ⋮ | ⋮ | ⋮ | ⋮ | ⋮ | ⋮ | ⋮ | ⋮ | ⋮ |\n| 70 | 416 | 766 | 670 | 675 | 225 | 678 |  827 | 749 |\n| 71 | 679 | 360 | 636 | 720 | 253 | 718 | 1004 | 692 |\n| 72 | 511 | 706 | 498 | 556 | 285 | 650 | 1024 | 523 |\n| 73 | 419 | 599 | 838 | 527 | 181 | 509 | 1072 | 821 |\n| 74 | 493 | 496 | 668 | 732 | 188 | 622 |  920 | 530 |\n| 75 | 582 | 528 | 742 | 719 | 305 | 673 |  846 | 762 |\n| 76 | 370 | 822 | 532 | 514 | 207 | 535 |  919 | 871 |\n| 77 | 410 | 503 | 751 | 844 | 447 | 365 |  895 | 499 |\n| 78 | 404 | 731 | 626 | 440 | 119 | 718 |  946 | 768 |\n| 79 | 442 | 491 | 491 | 516 | 444 | 584 |  756 | 595 |\n| 80 | 291 | 570 | 584 | 688 | 304 | 518 |  896 | 781 |\n| 81 | 529 | 528 | 664 | 668 | 444 | 747 |  917 | 699 |\n| 82 | 651 | 602 | 750 | 603 | 379 | 385 |  898 | 645 |\n| 83 | 424 | 642 | 827 | 711 | 263 | 460 |  834 | 385 |\n| 84 | 690 | 571 | 605 | 553 | 313 | 700 |  876 | 664 |\n| 85 | 614 | 807 | 656 | 663 | 405 | 708 |  843 | 855 |\n| 86 | 688 | 709 | 537 | 696 | 276 | 734 | 1062 | 576 |\n| 87 | 579 | 706 | 574 | 532 | 185 | 375 |  748 | 593 |\n| 88 | 567 | 578 | 951 | 748 | 393 | 667 |  965 | 709 |\n| 89 | 549 | 678 | 675 | 667 | 405 | 512 |  860 | 872 |\n| 90 | 521 | 577 | 595 | 520 | 198 | 638 |  678 | 426 |\n| 91 | 516 | 559 | 844 | 421 | 119 | 342 |  997 | 596 |\n| 92 | 472 | 562 | 659 | 506 | 219 | 481 |  901 | 608 |\n| 93 | 387 | 758 | 761 | 393 | 338 | 582 |  715 | 780 |\n| 94 | 440 | 724 | 563 | 648 | 302 | 750 |  898 | 592 |\n| 95 | 609 | 577 | 735 | 791 | 160 | 726 |  842 | 464 |\n| 96 | 510 | 661 | 715 | 496 | 321 | 705 |  805 | 594 |\n| 97 | 661 | 810 | 657 | 580 | 185 | 433 |  880 | 684 |\n| 98 | 484 | 689 | 829 | 469 | 423 | 787 |  901 | 561 |\n| 99 | 377 | 801 | 581 | 696 | 142 | 604 | 1044 | 601 |\n\n",
            "text/latex": "A tibble: 100 × 9\n\\begin{tabular}{lllllllll}\n Hour NA & BUS\\_0 & BUS\\_1 & BUS\\_2 & BUS\\_3 & BUS\\_4 & BUS\\_5 & BUS\\_6 & BUS\\_7\\\\\n <dbl> & <dbl> & <dbl> & <dbl> & <dbl> & <dbl> & <dbl> & <dbl> & <dbl>\\\\\n\\hline\n\t  0 & 480 & 323 & 683 & 544 & 332 & 722 &  844 & 791\\\\\n\t  1 & 663 & 452 & 617 & 452 & 199 & 516 & 1073 & 524\\\\\n\t  2 & 686 & 557 & 692 & 430 & 427 & 496 &  687 & 768\\\\\n\t  3 & 421 & 452 & 878 & 584 & 176 & 695 &  949 & 509\\\\\n\t  4 & 473 & 626 & 701 & 499 & 477 & 822 &  886 & 717\\\\\n\t  5 & 325 & 588 & 633 & 600 & 294 & 824 &  793 & 588\\\\\n\t  6 & 509 & 701 & 713 & 416 & 284 & 914 &  908 & 713\\\\\n\t  7 & 485 & 469 & 534 & 694 & 176 & 564 &  994 & 521\\\\\n\t  8 & 362 & 664 & 575 & 771 & 228 & 473 & 1312 & 579\\\\\n\t  9 & 734 & 659 & 929 & 546 & 410 & 635 &  981 & 670\\\\\n\t 10 & 605 & 473 & 871 & 422 & 205 & 840 &  643 & 705\\\\\n\t 11 & 496 & 417 & 683 & 685 & 406 & 462 &  845 & 782\\\\\n\t 12 & 519 & 596 & 508 & 706 & 352 & 546 & 1071 & 448\\\\\n\t 13 & 420 & 722 & 674 & 522 & 345 & 368 &  922 & 572\\\\\n\t 14 & 745 & 518 & 601 & 559 & 242 & 608 & 1019 & 648\\\\\n\t 15 & 583 & 610 & 835 & 611 & 245 & 781 &  795 & 761\\\\\n\t 16 & 424 & 690 & 552 & 809 & 261 & 739 &  802 & 804\\\\\n\t 17 & 468 & 512 & 502 & 630 & 187 & 609 &  805 & 709\\\\\n\t 18 & 406 & 538 & 574 & 508 & 326 & 596 &  828 & 556\\\\\n\t 19 & 649 & 543 & 512 & 727 & 318 & 466 &  950 & 799\\\\\n\t 20 & 531 & 561 & 882 & 639 & 291 & 579 & 1004 & 499\\\\\n\t 21 & 358 & 530 & 738 & 620 & 326 & 612 &  715 & 680\\\\\n\t 22 & 381 & 561 & 552 & 453 & 326 & 630 & 1204 & 736\\\\\n\t 23 & 724 & 491 & 498 & 713 & 270 & 570 &  941 & 660\\\\\n\t 24 & 467 & 720 & 960 & 640 & 284 & 570 &  912 & 622\\\\\n\t 25 & 610 & 422 & 532 & 524 & 128 & 829 & 1072 & 482\\\\\n\t 26 & 517 & 456 & 522 & 626 & 364 & 712 &  987 & 749\\\\\n\t 27 & 642 & 623 & 683 & 685 & 320 & 701 &  616 & 773\\\\\n\t 28 & 575 & 536 & 687 & 662 & 348 & 588 &  643 & 647\\\\\n\t 29 & 642 & 585 & 777 & 655 & 359 & 758 & 1287 & 568\\\\\n\t ⋮ & ⋮ & ⋮ & ⋮ & ⋮ & ⋮ & ⋮ & ⋮ & ⋮\\\\\n\t 70 & 416 & 766 & 670 & 675 & 225 & 678 &  827 & 749\\\\\n\t 71 & 679 & 360 & 636 & 720 & 253 & 718 & 1004 & 692\\\\\n\t 72 & 511 & 706 & 498 & 556 & 285 & 650 & 1024 & 523\\\\\n\t 73 & 419 & 599 & 838 & 527 & 181 & 509 & 1072 & 821\\\\\n\t 74 & 493 & 496 & 668 & 732 & 188 & 622 &  920 & 530\\\\\n\t 75 & 582 & 528 & 742 & 719 & 305 & 673 &  846 & 762\\\\\n\t 76 & 370 & 822 & 532 & 514 & 207 & 535 &  919 & 871\\\\\n\t 77 & 410 & 503 & 751 & 844 & 447 & 365 &  895 & 499\\\\\n\t 78 & 404 & 731 & 626 & 440 & 119 & 718 &  946 & 768\\\\\n\t 79 & 442 & 491 & 491 & 516 & 444 & 584 &  756 & 595\\\\\n\t 80 & 291 & 570 & 584 & 688 & 304 & 518 &  896 & 781\\\\\n\t 81 & 529 & 528 & 664 & 668 & 444 & 747 &  917 & 699\\\\\n\t 82 & 651 & 602 & 750 & 603 & 379 & 385 &  898 & 645\\\\\n\t 83 & 424 & 642 & 827 & 711 & 263 & 460 &  834 & 385\\\\\n\t 84 & 690 & 571 & 605 & 553 & 313 & 700 &  876 & 664\\\\\n\t 85 & 614 & 807 & 656 & 663 & 405 & 708 &  843 & 855\\\\\n\t 86 & 688 & 709 & 537 & 696 & 276 & 734 & 1062 & 576\\\\\n\t 87 & 579 & 706 & 574 & 532 & 185 & 375 &  748 & 593\\\\\n\t 88 & 567 & 578 & 951 & 748 & 393 & 667 &  965 & 709\\\\\n\t 89 & 549 & 678 & 675 & 667 & 405 & 512 &  860 & 872\\\\\n\t 90 & 521 & 577 & 595 & 520 & 198 & 638 &  678 & 426\\\\\n\t 91 & 516 & 559 & 844 & 421 & 119 & 342 &  997 & 596\\\\\n\t 92 & 472 & 562 & 659 & 506 & 219 & 481 &  901 & 608\\\\\n\t 93 & 387 & 758 & 761 & 393 & 338 & 582 &  715 & 780\\\\\n\t 94 & 440 & 724 & 563 & 648 & 302 & 750 &  898 & 592\\\\\n\t 95 & 609 & 577 & 735 & 791 & 160 & 726 &  842 & 464\\\\\n\t 96 & 510 & 661 & 715 & 496 & 321 & 705 &  805 & 594\\\\\n\t 97 & 661 & 810 & 657 & 580 & 185 & 433 &  880 & 684\\\\\n\t 98 & 484 & 689 & 829 & 469 & 423 & 787 &  901 & 561\\\\\n\t 99 & 377 & 801 & 581 & 696 & 142 & 604 & 1044 & 601\\\\\n\\end{tabular}\n",
            "text/plain": [
              "    Hour NA BUS_0 BUS_1 BUS_2 BUS_3 BUS_4 BUS_5 BUS_6 BUS_7\n",
              "1    0      480   323   683   544   332   722    844  791  \n",
              "2    1      663   452   617   452   199   516   1073  524  \n",
              "3    2      686   557   692   430   427   496    687  768  \n",
              "4    3      421   452   878   584   176   695    949  509  \n",
              "5    4      473   626   701   499   477   822    886  717  \n",
              "6    5      325   588   633   600   294   824    793  588  \n",
              "7    6      509   701   713   416   284   914    908  713  \n",
              "8    7      485   469   534   694   176   564    994  521  \n",
              "9    8      362   664   575   771   228   473   1312  579  \n",
              "10   9      734   659   929   546   410   635    981  670  \n",
              "11  10      605   473   871   422   205   840    643  705  \n",
              "12  11      496   417   683   685   406   462    845  782  \n",
              "13  12      519   596   508   706   352   546   1071  448  \n",
              "14  13      420   722   674   522   345   368    922  572  \n",
              "15  14      745   518   601   559   242   608   1019  648  \n",
              "16  15      583   610   835   611   245   781    795  761  \n",
              "17  16      424   690   552   809   261   739    802  804  \n",
              "18  17      468   512   502   630   187   609    805  709  \n",
              "19  18      406   538   574   508   326   596    828  556  \n",
              "20  19      649   543   512   727   318   466    950  799  \n",
              "21  20      531   561   882   639   291   579   1004  499  \n",
              "22  21      358   530   738   620   326   612    715  680  \n",
              "23  22      381   561   552   453   326   630   1204  736  \n",
              "24  23      724   491   498   713   270   570    941  660  \n",
              "25  24      467   720   960   640   284   570    912  622  \n",
              "26  25      610   422   532   524   128   829   1072  482  \n",
              "27  26      517   456   522   626   364   712    987  749  \n",
              "28  27      642   623   683   685   320   701    616  773  \n",
              "29  28      575   536   687   662   348   588    643  647  \n",
              "30  29      642   585   777   655   359   758   1287  568  \n",
              "⋮   ⋮       ⋮     ⋮     ⋮     ⋮     ⋮     ⋮     ⋮     ⋮    \n",
              "71  70      416   766   670   675   225   678    827  749  \n",
              "72  71      679   360   636   720   253   718   1004  692  \n",
              "73  72      511   706   498   556   285   650   1024  523  \n",
              "74  73      419   599   838   527   181   509   1072  821  \n",
              "75  74      493   496   668   732   188   622    920  530  \n",
              "76  75      582   528   742   719   305   673    846  762  \n",
              "77  76      370   822   532   514   207   535    919  871  \n",
              "78  77      410   503   751   844   447   365    895  499  \n",
              "79  78      404   731   626   440   119   718    946  768  \n",
              "80  79      442   491   491   516   444   584    756  595  \n",
              "81  80      291   570   584   688   304   518    896  781  \n",
              "82  81      529   528   664   668   444   747    917  699  \n",
              "83  82      651   602   750   603   379   385    898  645  \n",
              "84  83      424   642   827   711   263   460    834  385  \n",
              "85  84      690   571   605   553   313   700    876  664  \n",
              "86  85      614   807   656   663   405   708    843  855  \n",
              "87  86      688   709   537   696   276   734   1062  576  \n",
              "88  87      579   706   574   532   185   375    748  593  \n",
              "89  88      567   578   951   748   393   667    965  709  \n",
              "90  89      549   678   675   667   405   512    860  872  \n",
              "91  90      521   577   595   520   198   638    678  426  \n",
              "92  91      516   559   844   421   119   342    997  596  \n",
              "93  92      472   562   659   506   219   481    901  608  \n",
              "94  93      387   758   761   393   338   582    715  780  \n",
              "95  94      440   724   563   648   302   750    898  592  \n",
              "96  95      609   577   735   791   160   726    842  464  \n",
              "97  96      510   661   715   496   321   705    805  594  \n",
              "98  97      661   810   657   580   185   433    880  684  \n",
              "99  98      484   689   829   469   423   787    901  561  \n",
              "100 99      377   801   581   696   142   604   1044  601  "
            ]
          },
          "metadata": {}
        }
      ]
    },
    {
      "cell_type": "code",
      "source": [
        "# install and load the writexl package\n",
        "install.packages(\"writexl\")\n",
        "library(writexl)\n",
        "\n",
        "\n",
        "# write the data frame to an Excel file\n",
        "write_xlsx(data, \"data.xlsx\")"
      ],
      "metadata": {
        "colab": {
          "base_uri": "https://localhost:8080/"
        },
        "id": "ThprbLkBg3zA",
        "outputId": "04df0083-5fc7-405f-b910-0f13564b95be"
      },
      "execution_count": 240,
      "outputs": [
        {
          "output_type": "stream",
          "name": "stderr",
          "text": [
            "Installing package into ‘/usr/local/lib/R/site-library’\n",
            "(as ‘lib’ is unspecified)\n",
            "\n"
          ]
        }
      ]
    },
    {
      "cell_type": "code",
      "source": [
        "dim(data)"
      ],
      "metadata": {
        "colab": {
          "base_uri": "https://localhost:8080/",
          "height": 34
        },
        "id": "mM3OlafSfEjU",
        "outputId": "f550adcb-c708-46cd-d825-f1606b65e28a"
      },
      "execution_count": 233,
      "outputs": [
        {
          "output_type": "display_data",
          "data": {
            "text/html": [
              "<style>\n",
              ".list-inline {list-style: none; margin:0; padding: 0}\n",
              ".list-inline>li {display: inline-block}\n",
              ".list-inline>li:not(:last-child)::after {content: \"\\00b7\"; padding: 0 .5ex}\n",
              "</style>\n",
              "<ol class=list-inline><li>6435</li><li>4</li></ol>\n"
            ],
            "text/markdown": "1. 6435\n2. 4\n\n\n",
            "text/latex": "\\begin{enumerate*}\n\\item 6435\n\\item 4\n\\end{enumerate*}\n",
            "text/plain": [
              "[1] 6435    4"
            ]
          },
          "metadata": {}
        }
      ]
    }
  ]
}