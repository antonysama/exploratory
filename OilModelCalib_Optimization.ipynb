{
  "nbformat": 4,
  "nbformat_minor": 0,
  "metadata": {
    "colab": {
      "provenance": [],
      "authorship_tag": "ABX9TyOCLdT5RVaqMTsw4YDwtmkP",
      "include_colab_link": true
    },
    "kernelspec": {
      "name": "python3",
      "display_name": "Python 3"
    },
    "language_info": {
      "name": "python"
    }
  },
  "cells": [
    {
      "cell_type": "markdown",
      "metadata": {
        "id": "view-in-github",
        "colab_type": "text"
      },
      "source": [
        "<a href=\"https://colab.research.google.com/github/antonysama/exploratory/blob/master/OilModelCalib_Optimization.ipynb\" target=\"_parent\"><img src=\"https://colab.research.google.com/assets/colab-badge.svg\" alt=\"Open In Colab\"/></a>"
      ]
    },
    {
      "cell_type": "code",
      "source": [
        "from google.colab import drive\n",
        "drive.mount('/content/drive')"
      ],
      "metadata": {
        "colab": {
          "base_uri": "https://localhost:8080/"
        },
        "id": "IlsCf4A4fGai",
        "outputId": "3fafea85-fe69-44b2-9b77-b7e9bbb117c1"
      },
      "execution_count": null,
      "outputs": [
        {
          "output_type": "stream",
          "name": "stdout",
          "text": [
            "Drive already mounted at /content/drive; to attempt to forcibly remount, call drive.mount(\"/content/drive\", force_remount=True).\n"
          ]
        }
      ]
    },
    {
      "cell_type": "code",
      "source": [
        "%cd \"/content/drive/My Drive/data_science\"\n",
        "\n"
      ],
      "metadata": {
        "colab": {
          "base_uri": "https://localhost:8080/"
        },
        "id": "tFcABFOLfQUk",
        "outputId": "1a9f06a5-3e08-4c42-9b4f-794c5e564d90"
      },
      "execution_count": null,
      "outputs": [
        {
          "output_type": "stream",
          "name": "stdout",
          "text": [
            "/content/drive/My Drive/data_science\n"
          ]
        }
      ]
    },
    {
      "cell_type": "code",
      "source": [
        "!pip install pyomo\n",
        "!apt-get install -y -qq glpk-utils\n",
        "import pyomo.environ as pyo\n",
        "from pyomo.opt import SolverFactory\n",
        "from pyomo.environ import *\n",
        "!pip install cplex -q\n"
      ],
      "metadata": {
        "id": "0ybCn-O37mbS"
      },
      "execution_count": null,
      "outputs": []
    },
    {
      "cell_type": "code",
      "source": [
        "# read table1 in file data.xlsx Sheet4 from a1:b3 which includes headers and row names\n",
        "import pandas as pd\n",
        "table1 = pd.read_excel('data.xlsx', sheet_name='Sheet4', header=0, index_col=0, usecols='A:C', nrows=3)\n",
        "table2 = pd.read_excel('data.xlsx', sheet_name='Sheet5', header=0, index_col=0, usecols='A:B', nrows=3)\n",
        "table2['Light']['2023-12-01']"
      ],
      "metadata": {
        "colab": {
          "base_uri": "https://localhost:8080/"
        },
        "id": "ULKhJqpugf4i",
        "outputId": "38b98b99-0260-43e0-d74b-13e26c300e86"
      },
      "execution_count": null,
      "outputs": [
        {
          "output_type": "execute_result",
          "data": {
            "text/plain": [
              "50.0"
            ]
          },
          "metadata": {},
          "execution_count": 4
        }
      ]
    },
    {
      "cell_type": "code",
      "source": [
        "# pyomo code that will find values for table1['X']['2023-01-01'] and table1['X']['2023-02-01'] \n",
        "# to minimize the difference between table2['Light']['2023-12-01'] and \n",
        "# the sum of product of table1['X']['2023-01-01'] and table1['Light']['2023-01-01'] and table1['X']['2023-02-01'] and table1['Light']['2023-02-01']\n",
        "\n",
        "\n",
        "# Define tables\n",
        "table1 = {'Light': {'2023-01-01': 50, '2023-02-01': 60}, 'X': {'2023-01-01': None, '2023-02-01': None}}\n",
        "table2 = {'Light': {'2023-12-01': 100}}\n",
        "\n",
        "# Create model\n",
        "model = ConcreteModel()\n",
        "\n",
        "# Define sets\n",
        "model.I = Set(initialize=['2023-01-01', '2023-02-01'])\n",
        "\n",
        "# Define variables\n",
        "model.X = Var(model.I, within=NonNegativeReals)\n",
        "\n",
        "# Define objective function\n",
        "def obj_rule(model):\n",
        "    return (model.X['2023-01-01']*table1['Light']['2023-01-01'] + model.X['2023-02-01']*table1['Light']['2023-02-01'] - table2['Light']['2023-12-01'])\n",
        "model.obj = Objective(rule=obj_rule, sense=minimize)\n",
        "\n",
        "# Define constraints\n",
        "def const_rule(model, i):\n",
        "    return model.X[i] >= 0\n",
        "model.constraints = Constraint(model.I, rule=const_rule)\n",
        "\n",
        "# Solve model\n",
        "SolverFactory('cplex_direct').solve(model)\n",
        "\n",
        "# Print solution\n",
        "print('X[2023-01-01] =', model.X['2023-01-01'].value)\n",
        "print('X[2023-02-01] =', model.X['2023-02-01'].value)\n",
        "\n"
      ],
      "metadata": {
        "colab": {
          "base_uri": "https://localhost:8080/"
        },
        "id": "HIPz2QSkzdGO",
        "outputId": "bd43e459-7c86-4bfe-bcdb-5c745bd9e7d5"
      },
      "execution_count": null,
      "outputs": [
        {
          "output_type": "stream",
          "name": "stdout",
          "text": [
            "\u001b[2K     \u001b[90m━━━━━━━━━━━━━━━━━━━━━━━━━━━━━━━━━━━━━━━━\u001b[0m \u001b[32m43.3/43.3 MB\u001b[0m \u001b[31m24.9 MB/s\u001b[0m eta \u001b[36m0:00:00\u001b[0m\n",
            "\u001b[?25hX[2023-01-01] = 0.0\n",
            "X[2023-02-01] = 0.0\n"
          ]
        }
      ]
    },
    {
      "cell_type": "code",
      "source": [
        "# a lower bound constraint on the objective function to make it non-negative:\n",
        "# so that nothing in the solution will be smaller than 0.1 .\n",
        "# Define sets\n",
        "model.I = Set(initialize=['2023-01-01', '2023-02-01'])\n",
        "\n",
        "# Define variables\n",
        "model.X = Var(model.I, within=NonNegativeReals)\n",
        "\n",
        "# Define objective function\n",
        "def obj_rule(model):\n",
        "    return model.X['2023-01-01']*table1['Light']['2023-01-01'] + model.X['2023-02-01']*table1['Light']['2023-02-01'] - table2['Light']['2023-12-01']\n",
        "model.obj = Objective(rule=obj_rule, sense=minimize)\n",
        "\n",
        "# Define constraints\n",
        "def const_rule(model, i):\n",
        "    return model.X[i] >= 0.1\n",
        "model.constraints = Constraint(model.I, rule=const_rule)\n",
        "\n",
        "# Add lower bound constraint on objective function\n",
        "model.obj_lower = Constraint(expr=model.obj >= 0)\n",
        "\n",
        "# Solve model\n",
        "SolverFactory('cplex_direct').solve(model)\n",
        "\n",
        "# Print solution\n",
        "print('X[2023-01-01] =', model.X['2023-01-01'].value)\n",
        "print('X[2023-02-01] =', model.X['2023-02-01'].value)"
      ],
      "metadata": {
        "id": "s58ojJKFLkLW",
        "colab": {
          "base_uri": "https://localhost:8080/"
        },
        "outputId": "0aa3afe5-3c6e-46a0-ad27-2be6762db3c6"
      },
      "execution_count": null,
      "outputs": [
        {
          "output_type": "stream",
          "name": "stderr",
          "text": [
            "WARNING:pyomo.core:Implicitly replacing the Component attribute I (type=<class 'pyomo.core.base.set.OrderedScalarSet'>) on block unknown with a new Component (type=<class 'pyomo.core.base.set.AbstractOrderedScalarSet'>).\n",
            "This is usually indicative of a modelling error.\n",
            "To avoid this warning, use block.del_component() and block.add_component().\n",
            "WARNING:pyomo.core:Implicitly replacing the Component attribute X (type=<class 'pyomo.core.base.var.IndexedVar'>) on block unknown with a new Component (type=<class 'pyomo.core.base.var.IndexedVar'>).\n",
            "This is usually indicative of a modelling error.\n",
            "To avoid this warning, use block.del_component() and block.add_component().\n",
            "WARNING:pyomo.core:Implicitly replacing the Component attribute obj (type=<class 'pyomo.core.base.objective.ScalarObjective'>) on block unknown with a new Component (type=<class 'pyomo.core.base.objective.ScalarObjective'>).\n",
            "This is usually indicative of a modelling error.\n",
            "To avoid this warning, use block.del_component() and block.add_component().\n",
            "WARNING:pyomo.core:Implicitly replacing the Component attribute constraints (type=<class 'pyomo.core.base.constraint.IndexedConstraint'>) on block unknown with a new Component (type=<class 'pyomo.core.base.constraint.IndexedConstraint'>).\n",
            "This is usually indicative of a modelling error.\n",
            "To avoid this warning, use block.del_component() and block.add_component().\n"
          ]
        },
        {
          "output_type": "stream",
          "name": "stdout",
          "text": [
            "X[2023-01-01] = 0.1\n",
            "X[2023-02-01] = 1.5833333333333335\n"
          ]
        }
      ]
    },
    {
      "cell_type": "code",
      "source": [
        "# a general multiplication of X and each value under table1['Light']:\n",
        "# Define list of dates\n",
        "date_list = ['2023-01-01', '2023-02-01']\n",
        "\n",
        "# Define set of dates\n",
        "model.I = Set(initialize=date_list)\n",
        "\n",
        "# Define variables\n",
        "model.X = Var(model.I, within=NonNegativeReals)\n",
        "\n",
        "# Define parameter for Light values\n",
        "model.Light_values = Param(model.I, initialize={i: table1['Light'][i] for i in model.I})\n",
        "\n",
        "# Define objective function\n",
        "def obj_rule(model):\n",
        "    return sum(model.X[i] * model.Light_values[i] for i in model.I) - table2['Light']['2023-12-01']\n",
        "\n",
        "model.obj = Objective(rule=obj_rule, sense=minimize)\n",
        "\n",
        "# Define constraints\n",
        "def const_rule(model, i):\n",
        "    return model.X[i] >= 0.1\n",
        "\n",
        "model.constraints = Constraint(model.I, rule=const_rule)\n",
        "\n",
        "# Add lower bound constraint on objective function\n",
        "model.obj_lower = Constraint(expr=model.obj >= 0)\n",
        "\n",
        "# Solve model\n",
        "SolverFactory('cplex_direct').solve(model)\n",
        "\n",
        "# Print solution\n",
        "for i in model.I:\n",
        "    print('X[{}] = {}'.format(i, model.X[i].value))\n"
      ],
      "metadata": {
        "colab": {
          "base_uri": "https://localhost:8080/"
        },
        "id": "rSiBXDhgYgnF",
        "outputId": "0cb0e048-c8ca-426f-8c86-936acbaa4f29"
      },
      "execution_count": null,
      "outputs": [
        {
          "output_type": "stream",
          "name": "stderr",
          "text": [
            "WARNING:pyomo.core:Implicitly replacing the Component attribute I (type=<class 'pyomo.core.base.set.OrderedScalarSet'>) on block unknown with a new Component (type=<class 'pyomo.core.base.set.AbstractOrderedScalarSet'>).\n",
            "This is usually indicative of a modelling error.\n",
            "To avoid this warning, use block.del_component() and block.add_component().\n",
            "WARNING:pyomo.core:Implicitly replacing the Component attribute X (type=<class 'pyomo.core.base.var.IndexedVar'>) on block unknown with a new Component (type=<class 'pyomo.core.base.var.IndexedVar'>).\n",
            "This is usually indicative of a modelling error.\n",
            "To avoid this warning, use block.del_component() and block.add_component().\n",
            "WARNING:pyomo.core:Implicitly replacing the Component attribute obj (type=<class 'pyomo.core.base.objective.ScalarObjective'>) on block unknown with a new Component (type=<class 'pyomo.core.base.objective.ScalarObjective'>).\n",
            "This is usually indicative of a modelling error.\n",
            "To avoid this warning, use block.del_component() and block.add_component().\n",
            "WARNING:pyomo.core:Implicitly replacing the Component attribute constraints (type=<class 'pyomo.core.base.constraint.IndexedConstraint'>) on block unknown with a new Component (type=<class 'pyomo.core.base.constraint.IndexedConstraint'>).\n",
            "This is usually indicative of a modelling error.\n",
            "To avoid this warning, use block.del_component() and block.add_component().\n",
            "WARNING:pyomo.core:Implicitly replacing the Component attribute obj_lower (type=<class 'pyomo.core.base.constraint.ScalarConstraint'>) on block unknown with a new Component (type=<class 'pyomo.core.base.constraint.AbstractScalarConstraint'>).\n",
            "This is usually indicative of a modelling error.\n",
            "To avoid this warning, use block.del_component() and block.add_component().\n"
          ]
        },
        {
          "output_type": "stream",
          "name": "stdout",
          "text": [
            "X[2023-01-01] = 0.1\n",
            "X[2023-02-01] = 1.5833333333333335\n"
          ]
        }
      ]
    },
    {
      "cell_type": "code",
      "source": [
        "#a general multiplication of X and each value under table1['Light']:\n",
        "# read table1 in file data.xlsx Sheet4 from a1:b3 which includes headers and row names\n",
        "table1 = pd.read_excel('data.xlsx', sheet_name='Sheet4', header=0, index_col=0, usecols='A:C', nrows=3)\n",
        "table2 = pd.read_excel('data.xlsx', sheet_name='Sheet5', header=0, index_col=0, usecols='A:B', nrows=3)\n",
        "\n",
        "# Define set of dates from table1\n",
        "model.I = Set(initialize=table1.index.tolist())\n",
        "\n",
        "# Define variables\n",
        "model.X = Var(model.I, within=NonNegativeReals)\n",
        "\n",
        "# Define parameter for Light values from table1\n",
        "model.Light_values = Param(model.I, initialize={i: table1.at[i, 'Light'] for i in model.I})\n",
        "\n",
        "# Define objective function\n",
        "def obj_rule(model):\n",
        "    return sum(model.X[i] * model.Light_values[i] for i in model.I) - table2['Light']['2023-12-01']\n",
        "\n",
        "model.obj = Objective(rule=obj_rule, sense=minimize)\n",
        "\n",
        "# Define constraints\n",
        "def const_rule(model, i):\n",
        "    return model.X[i] >= 0.1\n",
        "\n",
        "model.constraints = Constraint(model.I, rule=const_rule)\n",
        "\n",
        "# Add lower bound constraint on objective function\n",
        "model.obj_lower = Constraint(expr=model.obj >= 0)\n",
        "\n",
        "# Solve model\n",
        "SolverFactory('cplex_direct').solve(model)\n",
        "\n",
        "# Print solution\n",
        "for i in model.I:\n",
        "    print('X[{}] = {}'.format(i, model.X[i].value))\n"
      ],
      "metadata": {
        "colab": {
          "base_uri": "https://localhost:8080/"
        },
        "id": "47SK26VvcEuT",
        "outputId": "81541b59-606e-44f2-edc6-05c57300cf4e"
      },
      "execution_count": null,
      "outputs": [
        {
          "output_type": "stream",
          "name": "stderr",
          "text": [
            "WARNING:pyomo.core:Implicitly replacing the Component attribute I (type=<class 'pyomo.core.base.set.OrderedScalarSet'>) on block unknown with a new Component (type=<class 'pyomo.core.base.set.AbstractOrderedScalarSet'>).\n",
            "This is usually indicative of a modelling error.\n",
            "To avoid this warning, use block.del_component() and block.add_component().\n",
            "WARNING:pyomo.core:Implicitly replacing the Component attribute X (type=<class 'pyomo.core.base.var.IndexedVar'>) on block unknown with a new Component (type=<class 'pyomo.core.base.var.IndexedVar'>).\n",
            "This is usually indicative of a modelling error.\n",
            "To avoid this warning, use block.del_component() and block.add_component().\n",
            "WARNING:pyomo.core:Implicitly replacing the Component attribute Light_values (type=<class 'pyomo.core.base.param.IndexedParam'>) on block unknown with a new Component (type=<class 'pyomo.core.base.param.IndexedParam'>).\n",
            "This is usually indicative of a modelling error.\n",
            "To avoid this warning, use block.del_component() and block.add_component().\n",
            "WARNING:pyomo.core:Implicitly replacing the Component attribute obj (type=<class 'pyomo.core.base.objective.ScalarObjective'>) on block unknown with a new Component (type=<class 'pyomo.core.base.objective.ScalarObjective'>).\n",
            "This is usually indicative of a modelling error.\n",
            "To avoid this warning, use block.del_component() and block.add_component().\n",
            "WARNING:pyomo.core:Implicitly replacing the Component attribute constraints (type=<class 'pyomo.core.base.constraint.IndexedConstraint'>) on block unknown with a new Component (type=<class 'pyomo.core.base.constraint.IndexedConstraint'>).\n",
            "This is usually indicative of a modelling error.\n",
            "To avoid this warning, use block.del_component() and block.add_component().\n",
            "WARNING:pyomo.core:Implicitly replacing the Component attribute obj_lower (type=<class 'pyomo.core.base.constraint.ScalarConstraint'>) on block unknown with a new Component (type=<class 'pyomo.core.base.constraint.AbstractScalarConstraint'>).\n",
            "This is usually indicative of a modelling error.\n",
            "To avoid this warning, use block.del_component() and block.add_component().\n"
          ]
        },
        {
          "output_type": "stream",
          "name": "stdout",
          "text": [
            "X[2023-01-01 00:00:00] = 0.1\n",
            "X[2023-02-01 00:00:00] = 3.753846153846154\n"
          ]
        }
      ]
    },
    {
      "cell_type": "code",
      "source": [
        "#a general multiplication of X and each value under table1['Light']:\n",
        "# read table1 in file data.xlsx Sheet4 from a1:b3 which includes headers and row names\n",
        "table1 = pd.read_excel('data.xlsx', sheet_name='Sheet4', header=0, index_col=0, usecols='A:D', nrows=3)\n",
        "table2 = pd.read_excel('data.xlsx', sheet_name='Sheet5', header=0, index_col=0, usecols='A:B', nrows=3)\n",
        "\n",
        "# Define set of dates from table1\n",
        "model.I = Set(initialize=table1.index.tolist())\n",
        "\n",
        "# Define variables\n",
        "model.X = Var(model.I, within=NonNegativeReals)\n",
        "\n",
        "# Define parameter for Light values from table1\n",
        "model.Light_values = Param(model.I, initialize={i: table1.at[i, 'Light'] for i in model.I})\n",
        "\n",
        "# Define objective function\n",
        "def obj_rule(model):\n",
        "    return sum(model.X[i] * model.Light_values[i] for i in model.I) - table2['Oil']['2023-12-01']\n",
        "\n",
        "model.obj = Objective(rule=obj_rule, sense=minimize)\n",
        "\n",
        "# Define constraints\n",
        "def const_rule(model, i):\n",
        "    return model.X[i] >= 0.1\n",
        "\n",
        "model.constraints = Constraint(model.I, rule=const_rule)\n",
        "\n",
        "# Add lower bound constraint on objective function\n",
        "model.obj_lower = Constraint(expr=model.obj >= 0)\n",
        "\n",
        "# Solve model\n",
        "SolverFactory('cplex_direct').solve(model)\n",
        "\n",
        "# Print solution\n",
        "for i in model.I:\n",
        "    print('X[{}] = {}'.format(i, model.X[i].value))"
      ],
      "metadata": {
        "colab": {
          "base_uri": "https://localhost:8080/"
        },
        "id": "gJXmAaehk8qT",
        "outputId": "519b3dbc-5be9-4dad-d5d8-406cc2f11ecb"
      },
      "execution_count": null,
      "outputs": [
        {
          "output_type": "stream",
          "name": "stderr",
          "text": [
            "WARNING:pyomo.core:Implicitly replacing the Component attribute I (type=<class 'pyomo.core.base.set.OrderedScalarSet'>) on block unknown with a new Component (type=<class 'pyomo.core.base.set.AbstractOrderedScalarSet'>).\n",
            "This is usually indicative of a modelling error.\n",
            "To avoid this warning, use block.del_component() and block.add_component().\n",
            "WARNING:pyomo.core:Implicitly replacing the Component attribute X (type=<class 'pyomo.core.base.var.IndexedVar'>) on block unknown with a new Component (type=<class 'pyomo.core.base.var.IndexedVar'>).\n",
            "This is usually indicative of a modelling error.\n",
            "To avoid this warning, use block.del_component() and block.add_component().\n",
            "WARNING:pyomo.core:Implicitly replacing the Component attribute Light_values (type=<class 'pyomo.core.base.param.IndexedParam'>) on block unknown with a new Component (type=<class 'pyomo.core.base.param.IndexedParam'>).\n",
            "This is usually indicative of a modelling error.\n",
            "To avoid this warning, use block.del_component() and block.add_component().\n",
            "WARNING:pyomo.core:Implicitly replacing the Component attribute obj (type=<class 'pyomo.core.base.objective.ScalarObjective'>) on block unknown with a new Component (type=<class 'pyomo.core.base.objective.ScalarObjective'>).\n",
            "This is usually indicative of a modelling error.\n",
            "To avoid this warning, use block.del_component() and block.add_component().\n",
            "WARNING:pyomo.core:Implicitly replacing the Component attribute constraints (type=<class 'pyomo.core.base.constraint.IndexedConstraint'>) on block unknown with a new Component (type=<class 'pyomo.core.base.constraint.IndexedConstraint'>).\n",
            "This is usually indicative of a modelling error.\n",
            "To avoid this warning, use block.del_component() and block.add_component().\n",
            "WARNING:pyomo.core:Implicitly replacing the Component attribute obj_lower (type=<class 'pyomo.core.base.constraint.ScalarConstraint'>) on block unknown with a new Component (type=<class 'pyomo.core.base.constraint.AbstractScalarConstraint'>).\n",
            "This is usually indicative of a modelling error.\n",
            "To avoid this warning, use block.del_component() and block.add_component().\n"
          ]
        },
        {
          "output_type": "stream",
          "name": "stdout",
          "text": [
            "X[2023-01-01 00:00:00] = 0.1\n",
            "X[2023-02-01 00:00:00] = 3.753846153846154\n"
          ]
        }
      ]
    },
    {
      "cell_type": "code",
      "source": [
        "# Add Medium column \n",
        "\n",
        "table1 = pd.read_excel('data.xlsx', sheet_name='Sheet4', header=0, index_col=0, usecols='A:D', nrows=3)\n",
        "table2 = pd.read_excel('data.xlsx', sheet_name='Sheet5', header=0, index_col=0, usecols='A:B', nrows=3)\n",
        "\n",
        "# Define set of dates from table1\n",
        "model = ConcreteModel()\n",
        "model.I = Set(initialize=table1.index.tolist())\n",
        "\n",
        "# Define variables\n",
        "model.X = Var(model.I, within=NonNegativeReals)\n",
        "\n",
        "# Define parameters\n",
        "model.Light_values = Param(model.I, initialize={i: table1.at[i, 'Light'] for i in model.I})\n",
        "model.Medium_values = Param(model.I, initialize={i: table1.at[i, 'Medium'] for i in model.I})\n",
        "\n",
        "# Define objective function\n",
        "def obj_rule(model):\n",
        "    return sum(model.X[i] * (table1.at[i, 'Light'] + table1.at[i, 'Medium']) for i in model.I) - table2['Oil']['2023-12-01']\n",
        "\n",
        "\n",
        "model.obj = Objective(rule=obj_rule, sense=minimize)\n",
        "\n",
        "# Define constraints\n",
        "def const_rule(model, i):\n",
        "    return model.X[i] >= 0.1\n",
        "\n",
        "model.constraints = Constraint(model.I, rule=const_rule)\n",
        "\n",
        "# Add lower bound constraint on objective function\n",
        "model.obj_lower = Constraint(expr=model.obj >= 0)\n",
        "\n",
        "# Solve model\n",
        "SolverFactory('cplex_direct').solve(model)\n",
        "\n",
        "# Print solution\n",
        "for i in model.I:\n",
        "    print('X[{}] = {}'.format(i, model.X[i].value))\n"
      ],
      "metadata": {
        "colab": {
          "base_uri": "https://localhost:8080/"
        },
        "id": "LDJuGfHXmyHQ",
        "outputId": "7a044584-5fbb-49d5-c196-0dbf1c468b57"
      },
      "execution_count": null,
      "outputs": [
        {
          "output_type": "stream",
          "name": "stdout",
          "text": [
            "X[2023-01-01 00:00:00] = 0.1\n",
            "X[2023-02-01 00:00:00] = 3.246666666666667\n"
          ]
        }
      ]
    },
    {
      "cell_type": "code",
      "source": [
        "# Multiple years, constraints: constqnt X during the year and miimum X \n",
        "# Read data from Excel sheets\n",
        "table1 = pd.read_excel('data.xlsx', sheet_name='Sheet4', header=0, index_col=0, usecols='A:D') \n",
        "table2 = pd.read_excel('data.xlsx', sheet_name='Sheet5', header=0, index_col=0, usecols='A:B')\n",
        "\n",
        "# Group table1 by year\n",
        "years = table1.groupby(table1.index.year)\n",
        "\n",
        "for year, data in years:\n",
        "\n",
        "  # Define set of dates for this year\n",
        "  model = ConcreteModel()\n",
        "  model.I = Set(initialize=data.index.tolist())\n",
        "\n",
        "  # Define variables\n",
        "  model.X = Var(model.I, within=NonNegativeReals)\n",
        "  model.X_year = Var(within=NonNegativeReals)\n",
        "\n",
        "  # Define parameters\n",
        "  model.Light_values = Param(model.I, initialize={i: data.at[i, 'Light'] for i in model.I})\n",
        "  model.Medium_values = Param(model.I, initialize={i: data.at[i, 'Medium'] for i in model.I})\n",
        "\n",
        "  # Define objective function\n",
        "  def obj_rule(model):\n",
        "      return sum(model.X[i] * (data.at[i, 'Light'] + data.at[i, 'Medium']) for i in model.I) - table2['Oil'][str(year) + '-12-01']\n",
        "\n",
        "  model.obj = Objective(rule=obj_rule, sense=minimize)\n",
        "\n",
        "  # Define constraints\n",
        "  def const_rule(model, i):\n",
        "      return model.X[i] >= 0.1\n",
        "\n",
        "  # def const_year_rule(model, i):\n",
        "  #     return model.X[i] == model.X_year\n",
        "\n",
        "  model.constraints = Constraint(model.I, rule=const_rule)\n",
        "  model.constraints_year = Constraint(model.I, rule=const_year_rule)\n",
        "\n",
        "  # Add lower bound constraint on objective function\n",
        "  model.obj_lower = Constraint(expr=model.obj >= 0)\n",
        "\n",
        "  # Solve model\n",
        "  SolverFactory('cplex_direct').solve(model)\n",
        "\n",
        "  # Print solution\n",
        "  print('Year:', year)\n",
        "  for i in model.I:\n",
        "      print('X[{}] = {}'.format(i, model.X[i].value))\n",
        "  print('X_year =', model.X_year.value)"
      ],
      "metadata": {
        "colab": {
          "base_uri": "https://localhost:8080/"
        },
        "id": "hScMUUod2hQT",
        "outputId": "3e1e60a9-28b7-44cd-93ce-714cdcee229a"
      },
      "execution_count": null,
      "outputs": [
        {
          "output_type": "stream",
          "name": "stdout",
          "text": [
            "Year: 2023\n",
            "X[2023-01-01 00:00:00] = 1.7857142857142856\n",
            "X[2023-02-01 00:00:00] = 1.7857142857142856\n",
            "X_year = 1.7857142857142856\n",
            "Year: 2024\n",
            "X[2024-01-01 00:00:00] = 4.511278195488722\n",
            "X[2024-02-01 00:00:00] = 4.511278195488723\n",
            "X_year = 4.511278195488723\n"
          ]
        }
      ]
    }
  ]
}