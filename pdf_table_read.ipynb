{
  "nbformat": 4,
  "nbformat_minor": 0,
  "metadata": {
    "colab": {
      "name": "pdf table read.ipynb",
      "provenance": [],
      "authorship_tag": "ABX9TyPGAFkqfpolSHrrQ9QWvDN+",
      "include_colab_link": true
    },
    "kernelspec": {
      "name": "python3",
      "display_name": "Python 3"
    },
    "language_info": {
      "name": "python"
    }
  },
  "cells": [
    {
      "cell_type": "markdown",
      "metadata": {
        "id": "view-in-github",
        "colab_type": "text"
      },
      "source": [
        "<a href=\"https://colab.research.google.com/github/antonysama/exploratory/blob/master/pdf_table_read.ipynb\" target=\"_parent\"><img src=\"https://colab.research.google.com/assets/colab-badge.svg\" alt=\"Open In Colab\"/></a>"
      ]
    },
    {
      "cell_type": "code",
      "execution_count": null,
      "metadata": {
        "id": "kBHr_Py8nY4P"
      },
      "outputs": [],
      "source": [
        "# !pip3 install camelot-py[cv] tabula-py\n",
        "%%capture\n",
        "!pip install tabula-py\n",
        "import tabula\n",
        "#documentation: https://tabula-py.readthedocs.io/en/latest/tabula.html"
      ]
    },
    {
      "cell_type": "code",
      "source": [
        "tabula.convert_into(\"ep_annuals.pdf\", \"testx.csv\", output_format=\"csv\", pages=[2,5,7,8,9,10,11,12,12,14,15,18,22,24,25,26,27,28,30,31,32,33,34,35,36,37,38,40,43,44,45,46,47,48,49,50,51])"
      ],
      "metadata": {
        "id": "r2GytoPzrMoh",
        "colab": {
          "base_uri": "https://localhost:8080/"
        },
        "outputId": "cf4ec10c-5791-4d9e-9e8e-d752895c3f0e"
      },
      "execution_count": null,
      "outputs": [
        {
          "output_type": "stream",
          "name": "stderr",
          "text": [
            "Got stderr: Jun 30, 2022 12:51:01 AM org.apache.pdfbox.pdmodel.font.FileSystemFontProvider loadDiskCache\n",
            "WARNING: New fonts found, font cache will be re-built\n",
            "Jun 30, 2022 12:51:01 AM org.apache.pdfbox.pdmodel.font.FileSystemFontProvider <init>\n",
            "WARNING: Building on-disk font cache, this may take a while\n",
            "Jun 30, 2022 12:51:01 AM org.apache.pdfbox.pdmodel.font.FileSystemFontProvider <init>\n",
            "WARNING: Finished building on-disk font cache, found 17 fonts\n",
            "Jun 30, 2022 12:51:01 AM org.apache.pdfbox.pdmodel.font.PDType1Font <init>\n",
            "WARNING: Using fallback font LiberationSans for base font Symbol\n",
            "Jun 30, 2022 12:51:01 AM org.apache.pdfbox.pdmodel.font.PDType1Font <init>\n",
            "WARNING: Using fallback font LiberationSans for base font ZapfDingbats\n",
            "\n"
          ]
        }
      ]
    }
  ]
}