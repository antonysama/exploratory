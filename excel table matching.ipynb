{
  "nbformat": 4,
  "nbformat_minor": 0,
  "metadata": {
    "colab": {
      "provenance": [],
      "authorship_tag": "ABX9TyOVc9j564LkZwJpQemanmMl",
      "include_colab_link": true
    },
    "kernelspec": {
      "name": "python3",
      "display_name": "Python 3"
    },
    "language_info": {
      "name": "python"
    }
  },
  "cells": [
    {
      "cell_type": "markdown",
      "metadata": {
        "id": "view-in-github",
        "colab_type": "text"
      },
      "source": [
        "<a href=\"https://colab.research.google.com/github/antonysama/exploratory/blob/master/excel%20table%20matching.ipynb\" target=\"_parent\"><img src=\"https://colab.research.google.com/assets/colab-badge.svg\" alt=\"Open In Colab\"/></a>"
      ]
    },
    {
      "cell_type": "code",
      "source": [
        "from google.colab import drive\n",
        "drive.mount('/content/drive')"
      ],
      "metadata": {
        "colab": {
          "base_uri": "https://localhost:8080/"
        },
        "id": "IlsCf4A4fGai",
        "outputId": "d88ef856-3952-4700-eb54-5816da80181a"
      },
      "execution_count": 1,
      "outputs": [
        {
          "output_type": "stream",
          "name": "stdout",
          "text": [
            "Mounted at /content/drive\n"
          ]
        }
      ]
    },
    {
      "cell_type": "code",
      "source": [
        "%cd \"/content/drive/My Drive/data_science\"\n"
      ],
      "metadata": {
        "colab": {
          "base_uri": "https://localhost:8080/"
        },
        "id": "tFcABFOLfQUk",
        "outputId": "fae6f9de-71c0-4567-b299-1da9a9c82f23"
      },
      "execution_count": 2,
      "outputs": [
        {
          "output_type": "stream",
          "name": "stdout",
          "text": [
            "/content/drive/My Drive/data_science\n"
          ]
        }
      ]
    },
    {
      "cell_type": "code",
      "source": [
        "!pip install fuzzywuzzy\n"
      ],
      "metadata": {
        "id": "OtKF5lLFK0QE"
      },
      "execution_count": null,
      "outputs": []
    },
    {
      "cell_type": "markdown",
      "source": [
        "1. python program to create two data frames from from tables from file data.xlsx, Sheet2. First table has column names A and B. Second has column names E and F.\n",
        "2. Do a fuzzy match greater than 85% of the two tables based on their respective first column titles  and print a table of all columns"
      ],
      "metadata": {
        "id": "5Vs6G6HBgvCI"
      }
    },
    {
      "cell_type": "code",
      "source": [
        "import pandas as pd\n",
        "from fuzzywuzzy import fuzz\n",
        "\n",
        "# Read the Excel file\n",
        "data = pd.read_excel('data.xlsx', sheet_name='Sheet2')\n",
        "# strip white speace\n",
        "data.columns = data.columns.str.strip()\n",
        "\n",
        "# Extract the first table from columns A and B\n",
        "table1 = data[['A', 'B']]\n",
        "table1.columns = ['Name', 'Value1']\n",
        "\n",
        "# Extract the second table from columns E and F\n",
        "table2 = data[['E', 'F']]\n",
        "table2.columns = ['Name', 'Value2']\n",
        "\n",
        "# Create an empty list to store the matched rows\n",
        "matched_rows = []\n",
        "\n",
        "# Perform fuzzy matching\n",
        "matches = []\n",
        "for name1 in table1['Name']:\n",
        "    best_match = None\n",
        "    best_ratio = 0\n",
        "    name1_str = str(name1)\n",
        "    for name2 in table2['Name']:\n",
        "        name2_str = str(name2)\n",
        "        ratio = fuzz.ratio(name1_str, name2_str)\n",
        "        if ratio > best_ratio:\n",
        "            best_match = name2_str\n",
        "            best_ratio = ratio\n",
        "    if best_ratio >= 85:\n",
        "        matches.append((name1_str, best_match))\n",
        "\n",
        "# Convert matches to a data frame\n",
        "matches_df = pd.DataFrame(matches, columns=['Name', 'Wells'])\n",
        "\n",
        "# Merge table1 with matches_df\n",
        "result = pd.merge(table1, matches_df, on='Name', how='left')\n",
        "\n",
        "# Merge result with table2\n",
        "result = pd.merge(result, table2, on='Name', how='left')\n",
        "\n",
        "print(result)\n"
      ],
      "metadata": {
        "colab": {
          "base_uri": "https://localhost:8080/"
        },
        "id": "MqcsH_yigYw0",
        "outputId": "0dd2b693-33de-4a42-9393-7702cc01c858"
      },
      "execution_count": 66,
      "outputs": [
        {
          "output_type": "stream",
          "name": "stdout",
          "text": [
            "                            Name  Value1                               Wells  \\\n",
            "0       Advantage Oil & Gas Ltd.   280.0                                 NaN   \n",
            "1   Antero Resources Corporation  1365.0                                 NaN   \n",
            "2                            Apa  2765.0                                 NaN   \n",
            "3             ARC Resources Ltd.  2000.0                  ARC Resources Ltd.   \n",
            "4                         Baytex   625.0                                 NaN   \n",
            "5         Birchcliff Energy Ltd.   260.0              Birchcliff Energy Ltd.   \n",
            "6          Bonterra Energy Corp.   120.0               Bonterra Energy Corp.   \n",
            "7     Canadian Natural Resources  1433.0  Canadian Natural Resources Limited   \n",
            "8            Canacol Energy Ltd.   201.0                 Canacol Energy Ltd.   \n",
            "9           Cardinal Energy Ltd.   100.0                Cardinal Energy Ltd.   \n",
            "10           Coterra Energy Inc.  2651.0                                 NaN   \n",
            "11   Crescent Point Energy Corp.  1150.0          Crescent Point Energy Corp   \n",
            "12              Crew Energy Inc.   240.0                    Crew Energy Inc.   \n",
            "13       Crown Point Energy Inc.    20.0             Crown Point Energy Inc.   \n",
            "14            Devon Energy Corp.  4639.0                                 NaN   \n",
            "15                   Diamondback  3448.0                                 NaN   \n",
            "16          Enerplus Corporation   702.0                Enerplus Corporation   \n",
            "17            EOG Resources Inc.  7952.0                                 NaN   \n",
            "18               EQT Corporation  2717.0                                 NaN   \n",
            "19       Freehold Royalties Ltd.     0.0             Freehold Royalties Ltd.   \n",
            "20       Forza Petroleum Limited    80.0             Forza Petroleum Limited   \n",
            "21   Frontera Energy Corporation   420.0         Frontera Energy Corporation   \n",
            "22              Gear Energy Ltd.    50.0                    Gear Energy Ltd.   \n",
            "23       Gran Tierra Energy Inc.   331.0             Gran Tierra Energy Inc.   \n",
            "\n",
            "   Value2  \n",
            "0     NaN  \n",
            "1     NaN  \n",
            "2     NaN  \n",
            "3       -  \n",
            "4     NaN  \n",
            "5    23.0  \n",
            "6    44.0  \n",
            "7     NaN  \n",
            "8    10.0  \n",
            "9    17.6  \n",
            "10    NaN  \n",
            "11    NaN  \n",
            "12      -  \n",
            "13      -  \n",
            "14    NaN  \n",
            "15    NaN  \n",
            "16      -  \n",
            "17    NaN  \n",
            "18    NaN  \n",
            "19      -  \n",
            "20      -  \n",
            "21      -  \n",
            "22   22.0  \n",
            "23      -  \n"
          ]
        }
      ]
    },
    {
      "cell_type": "code",
      "source": [
        "result.to_excel('result.xlsx', index=False)"
      ],
      "metadata": {
        "id": "zjbusd5Pgipx"
      },
      "execution_count": 67,
      "outputs": []
    },
    {
      "cell_type": "markdown",
      "source": [
        "To perform a right outer join instead of a left outer join, we can modify the last line of code to:"
      ],
      "metadata": {
        "id": "XTpmv8dDh6Xe"
      }
    },
    {
      "cell_type": "code",
      "source": [
        "import pandas as pd\n",
        "from fuzzywuzzy import fuzz\n",
        "\n",
        "# Read the Excel file\n",
        "data = pd.read_excel('data.xlsx', sheet_name='Sheet2')\n",
        "# strip white speace\n",
        "data.columns = data.columns.str.strip()\n",
        "\n",
        "# Extract the first table from columns A and B\n",
        "table1 = data[['A', 'B']]\n",
        "table1.columns = ['Name', 'Value1']\n",
        "\n",
        "# Extract the second table from columns E and F\n",
        "table2 = data[['E', 'F']]\n",
        "table2.columns = ['Name', 'Value2']\n",
        "\n",
        "# Create an empty list to store the matched rows\n",
        "matched_rows = []\n",
        "\n",
        "# Perform fuzzy matching\n",
        "matches = []\n",
        "for name1 in table1['Name']:\n",
        "    best_match = None\n",
        "    best_ratio = 0\n",
        "    name1_str = str(name1)\n",
        "    for name2 in table2['Name']:\n",
        "        name2_str = str(name2)\n",
        "        ratio = fuzz.ratio(name1_str, name2_str)\n",
        "        if ratio > best_ratio:\n",
        "            best_match = name2_str\n",
        "            best_ratio = ratio\n",
        "    if best_ratio >= 85:\n",
        "        matches.append((name1_str, best_match))\n",
        "\n",
        "# Convert matches to a data frame\n",
        "matches_df = pd.DataFrame(matches, columns=['Name', 'Wells'])\n",
        "\n",
        "# Merge table1 with matches_df\n",
        "result = pd.merge(table1, matches_df, on='Name', how='right')\n",
        "\n",
        "# Merge result with table2\n",
        "result = pd.merge(result, table2, on='Name', how='left')\n",
        "\n",
        "print(result)\n"
      ],
      "metadata": {
        "colab": {
          "base_uri": "https://localhost:8080/"
        },
        "id": "vPtxlM12izLb",
        "outputId": "3f60f85d-c878-4091-de8f-ecc91014543a"
      },
      "execution_count": 72,
      "outputs": [
        {
          "output_type": "stream",
          "name": "stdout",
          "text": [
            "                           Name  Value1                               Wells  \\\n",
            "0            ARC Resources Ltd.  2000.0                  ARC Resources Ltd.   \n",
            "1        Birchcliff Energy Ltd.   260.0              Birchcliff Energy Ltd.   \n",
            "2         Bonterra Energy Corp.   120.0               Bonterra Energy Corp.   \n",
            "3    Canadian Natural Resources  1433.0  Canadian Natural Resources Limited   \n",
            "4           Canacol Energy Ltd.   201.0                 Canacol Energy Ltd.   \n",
            "5          Cardinal Energy Ltd.   100.0                Cardinal Energy Ltd.   \n",
            "6   Crescent Point Energy Corp.  1150.0          Crescent Point Energy Corp   \n",
            "7              Crew Energy Inc.   240.0                    Crew Energy Inc.   \n",
            "8       Crown Point Energy Inc.    20.0             Crown Point Energy Inc.   \n",
            "9          Enerplus Corporation   702.0                Enerplus Corporation   \n",
            "10      Freehold Royalties Ltd.     0.0             Freehold Royalties Ltd.   \n",
            "11      Forza Petroleum Limited    80.0             Forza Petroleum Limited   \n",
            "12  Frontera Energy Corporation   420.0         Frontera Energy Corporation   \n",
            "13             Gear Energy Ltd.    50.0                    Gear Energy Ltd.   \n",
            "14      Gran Tierra Energy Inc.   331.0             Gran Tierra Energy Inc.   \n",
            "\n",
            "   Value2  \n",
            "0       -  \n",
            "1    23.0  \n",
            "2    44.0  \n",
            "3     NaN  \n",
            "4    10.0  \n",
            "5    17.6  \n",
            "6     NaN  \n",
            "7       -  \n",
            "8       -  \n",
            "9       -  \n",
            "10      -  \n",
            "11      -  \n",
            "12      -  \n",
            "13   22.0  \n",
            "14      -  \n"
          ]
        }
      ]
    },
    {
      "cell_type": "code",
      "source": [
        "result.to_excel('result.xlsx', index=False)"
      ],
      "metadata": {
        "id": "inY4aDRzi3AH"
      },
      "execution_count": 73,
      "outputs": []
    },
    {
      "cell_type": "markdown",
      "source": [
        "Modify the code slightly so that ALL the columns of table 2 show, but, only where names of table 2 do NOT match names of table 1 at greater than 85%"
      ],
      "metadata": {
        "id": "S1nTO9irlGqx"
      }
    },
    {
      "cell_type": "code",
      "source": [
        "import pandas as pd\n",
        "from fuzzywuzzy import fuzz\n",
        "\n",
        "# Read the Excel file\n",
        "data = pd.read_excel('data.xlsx', sheet_name='Sheet2')\n",
        "# strip white speace\n",
        "data.columns = data.columns.str.strip()\n",
        "\n",
        "# Extract the first table from columns A and B\n",
        "table1 = data[['A', 'B']]\n",
        "table1.columns = ['Name', 'Value1']\n",
        "\n",
        "# Extract the second table from columns E and F\n",
        "table2 = data[['E', 'F']]\n",
        "table2.columns = ['Name', 'Value2']\n",
        "\n",
        "# Create an empty list to store the matched rows\n",
        "matches = []\n",
        "\n",
        "# Perform fuzzy matching\n",
        "for name1 in table1['Name']:\n",
        "    best_match = None\n",
        "    best_ratio = 0\n",
        "    name1_str = str(name1)\n",
        "    for name2 in table2['Name']:\n",
        "        name2_str = str(name2)\n",
        "        ratio = fuzz.ratio(name1_str, name2_str)\n",
        "        if ratio > best_ratio:\n",
        "            best_match = name2_str\n",
        "            best_ratio = ratio\n",
        "    if best_ratio >= 85:\n",
        "        matches.append(best_match)\n",
        "\n",
        "# Filter table2 by removing matches\n",
        "table2_filtered = table2[~table2['Name'].isin(matches)]\n",
        "\n",
        "# Print filtered table2\n",
        "print(table2_filtered)\n"
      ],
      "metadata": {
        "colab": {
          "base_uri": "https://localhost:8080/"
        },
        "id": "RIt45s9olHKS",
        "outputId": "476436b4-c977-45a6-d923-4eb28bc90729"
      },
      "execution_count": 77,
      "outputs": [
        {
          "output_type": "stream",
          "name": "stdout",
          "text": [
            "                         Name Value2\n",
            "0       Advantage Energy Ltd.   25.0\n",
            "1       Alvopetro Energy Ltd.      -\n",
            "3   Athabasca Oil Corporation      -\n",
            "4         Baytex Energy Corp.      -\n",
            "10        Cenovus Energy Inc.      -\n",
            "11   Clearview Resources Ltd.      -\n",
            "21                        NaN    NaN\n",
            "22                        NaN    NaN\n",
            "23                        NaN    NaN\n"
          ]
        }
      ]
    },
    {
      "cell_type": "markdown",
      "source": [
        "Modify the code slightly so that ALL the columns of table 1 show, but, only where names of table 1 do NOT match names of table 2 at greater than 85%"
      ],
      "metadata": {
        "id": "Yr0RJvp4nVk0"
      }
    },
    {
      "cell_type": "code",
      "source": [
        "import pandas as pd\n",
        "from fuzzywuzzy import fuzz\n",
        "\n",
        "# Read the Excel file\n",
        "data = pd.read_excel('data.xlsx', sheet_name='Sheet2')\n",
        "# strip white speace\n",
        "data.columns = data.columns.str.strip()\n",
        "\n",
        "# Extract the first table from columns A and B\n",
        "table1 = data[['A', 'B']]\n",
        "table1.columns = ['Name', 'Value1']\n",
        "\n",
        "# Extract the second table from columns E and F\n",
        "table2 = data[['E', 'F']]\n",
        "table2.columns = ['Name', 'Value2']\n",
        "\n",
        "# Perform fuzzy matching\n",
        "matches = []\n",
        "for name1 in table1['Name']:\n",
        "    best_match = None\n",
        "    best_ratio = 0\n",
        "    name1_str = str(name1)\n",
        "    for name2 in table2['Name']:\n",
        "        name2_str = str(name2)\n",
        "        ratio = fuzz.ratio(name1_str, name2_str)\n",
        "        if ratio > best_ratio:\n",
        "            best_match = name2_str\n",
        "            best_ratio = ratio\n",
        "    if best_ratio < 85:\n",
        "        matches.append(name1_str)\n",
        "\n",
        "# Filter table 1 to only include rows where the Name column is in the list of unmatched names\n",
        "unmatched_table1 = table1[table1['Name'].isin(matches)]\n",
        "\n",
        "# Print the result\n",
        "print(unmatched_table1)\n",
        "\n"
      ],
      "metadata": {
        "colab": {
          "base_uri": "https://localhost:8080/"
        },
        "id": "cpY_vtWrnWvy",
        "outputId": "b626d664-f40c-40ab-d7bc-23038f2689d6"
      },
      "execution_count": 82,
      "outputs": [
        {
          "output_type": "stream",
          "name": "stdout",
          "text": [
            "                            Name  Value1\n",
            "0       Advantage Oil & Gas Ltd.   280.0\n",
            "1   Antero Resources Corporation  1365.0\n",
            "2                            Apa  2765.0\n",
            "4                         Baytex   625.0\n",
            "10           Coterra Energy Inc.  2651.0\n",
            "14            Devon Energy Corp.  4639.0\n",
            "15                   Diamondback  3448.0\n",
            "17            EOG Resources Inc.  7952.0\n",
            "18               EQT Corporation  2717.0\n"
          ]
        }
      ]
    },
    {
      "cell_type": "markdown",
      "source": [
        "Modified above slightly to read three columns of each table instead of two"
      ],
      "metadata": {
        "id": "CMryM68KrifJ"
      }
    },
    {
      "cell_type": "code",
      "source": [
        "import pandas as pd\n",
        "\n",
        "# Read the Excel file into a DataFrame\n",
        "data = pd.read_excel('data.xlsx', sheet_name='Sheet2')\n",
        "\n",
        "# Strip whitespace from column names\n",
        "data.columns = data.columns.str.strip()\n",
        "\n",
        "# Extract the first table from columns A, B, and C\n",
        "table1 = data[['A', 'B', 'C']]\n",
        "table1.columns = ['Name', 'Value1', 'Value2']\n",
        "\n",
        "# Extract the second table from columns E, F, and G\n",
        "table2 = data[['E', 'F', 'G']]\n",
        "table2.columns = ['Name', 'Value3', 'Value4']\n",
        "\n",
        "# Find the names in table 1 that don't match the names in table 2 at 85% or greater\n",
        "matches = []\n",
        "for name1 in table1['Name']:\n",
        "    best_match = None\n",
        "    best_ratio = 0\n",
        "    name1_str = str(name1)\n",
        "    for name2 in table2['Name']:\n",
        "        name2_str = str(name2)\n",
        "        ratio = fuzz.ratio(name1_str, name2_str)\n",
        "        if ratio > best_ratio:\n",
        "            best_match = name2_str\n",
        "            best_ratio = ratio\n",
        "    if best_ratio < 85:\n",
        "        matches.append(name1_str)\n",
        "\n",
        "# Filter table 1 to only include rows where the Name column is in the list of unmatched names\n",
        "result = table1[table1['Name'].isin(matches)]\n",
        "\n",
        "#\n",
        "# Print the result\n",
        "print(result)\n",
        "\n"
      ],
      "metadata": {
        "colab": {
          "base_uri": "https://localhost:8080/"
        },
        "id": "vlMjZBi5piiO",
        "outputId": "292b9a9d-dbea-4b28-c750-40bcbd7e2f66"
      },
      "execution_count": 90,
      "outputs": [
        {
          "output_type": "stream",
          "name": "stdout",
          "text": [
            "                            Name  Value1 Value2\n",
            "0       Advantage Oil & Gas Ltd.   280.0  dummy\n",
            "1   Antero Resources Corporation  1365.0  dummy\n",
            "2                            Apa  2765.0  dummy\n",
            "4                         Baytex   625.0  dummy\n",
            "10           Coterra Energy Inc.  2651.0  dummy\n",
            "14            Devon Energy Corp.  4639.0  dummy\n",
            "15                   Diamondback  3448.0  dummy\n",
            "17            EOG Resources Inc.  7952.0  dummy\n",
            "18               EQT Corporation  2717.0  dummy\n"
          ]
        }
      ]
    },
    {
      "cell_type": "code",
      "source": [
        "data = pd.read_excel('data.xlsx', sheet_name=None)\n",
        "print(data.keys())"
      ],
      "metadata": {
        "colab": {
          "base_uri": "https://localhost:8080/"
        },
        "id": "KXCcnNcKrF08",
        "outputId": "0002fb94-281f-4304-c89f-c0369b21ea3a"
      },
      "execution_count": 88,
      "outputs": [
        {
          "output_type": "stream",
          "name": "stdout",
          "text": [
            "dict_keys(['Sheet1', 'Sheet2'])\n"
          ]
        }
      ]
    }
  ]
}