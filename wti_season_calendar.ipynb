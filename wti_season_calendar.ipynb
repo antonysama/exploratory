{
  "nbformat": 4,
  "nbformat_minor": 0,
  "metadata": {
    "colab": {
      "provenance": [],
      "authorship_tag": "ABX9TyNQNABSfBhTPgPdzbM78zsq",
      "include_colab_link": true
    },
    "kernelspec": {
      "name": "python3",
      "display_name": "Python 3"
    },
    "language_info": {
      "name": "python"
    }
  },
  "cells": [
    {
      "cell_type": "markdown",
      "metadata": {
        "id": "view-in-github",
        "colab_type": "text"
      },
      "source": [
        "<a href=\"https://colab.research.google.com/github/antonysama/exploratory/blob/master/wti_season_calendar.ipynb\" target=\"_parent\"><img src=\"https://colab.research.google.com/assets/colab-badge.svg\" alt=\"Open In Colab\"/></a>"
      ]
    },
    {
      "cell_type": "code",
      "source": [
        "# Actual prices for current year\n",
        "prices_jan_to_jun = [73.86, 76.61, 80.41, 84.39, 78.62, 78.70]\n",
        "\n",
        "# Desired average price for current calendar year (2024)\n",
        "desired_average_price = 77\n",
        "\n",
        "# Define the prices for the calendar years 2025 to 2028\n",
        "price_2025 = 77\n",
        "price_2026 = 75\n",
        "price_2027 = 73\n",
        "price_2028 = 73"
      ],
      "metadata": {
        "id": "eo_laB5GCOvr"
      },
      "execution_count": 28,
      "outputs": []
    },
    {
      "cell_type": "code",
      "source": [
        "#current calendar year 2024\n",
        "\n",
        "import pandas as pd\n",
        "\n",
        "# Calculating required total sum of prices for the year\n",
        "total_sum_required = desired_average_price * 12\n",
        "\n",
        "# Calculating the total sum of prices for April to June\n",
        "total_sum_jan_to_jun = sum(prices_jan_to_jun)\n",
        "\n",
        "# Calculating the remaining sum required\n",
        "remaining_sum_required = total_sum_required - total_sum_jan_to_jun\n",
        "\n",
        "# Calculating July price\n",
        "price_remaining = remaining_sum_required / 6  # 6 months remaining after April to June\n",
        "\n",
        "# Calculating August, November, December prices\n",
        "price_july = price_remaining * 1.010\n",
        "price_august = price_remaining * 1.005\n",
        "price_september = price_remaining * 0.995\n",
        "price_october = price_remaining * 0.994\n",
        "price_november = price_remaining * 0.995\n",
        "price_december = price_remaining * 0.995\n",
        "\n",
        "\n",
        "# Printing the results\n",
        "print(f\"January price: {prices_jan_to_jun[0]}\")\n",
        "print(f\"February price: {prices_jan_to_jun[1]}\")\n",
        "print(f\"March price: {prices_jan_to_jun[2]}\")\n",
        "print(f\"April price: {prices_jan_to_jun[3]}\")\n",
        "print(f\"May price: {prices_jan_to_jun[4]}\")\n",
        "print(f\"June price: {prices_jan_to_jun[5]}\")\n",
        "print(f\"July price: {price_july:.2f}\")\n",
        "print(f\"August price: {price_august:.2f}\")\n",
        "print(f\"September price: {price_september:.2f}\")\n",
        "print(f\"October price: {price_october:.2f}\")\n",
        "print(f\"November price: {price_november:.2f}\")\n",
        "print(f\"December price: {price_december:.2f}\")\n",
        "\n",
        "# Checking the average price\n",
        "average_price = (sum(prices_jan_to_jun) + price_july + price_august + price_september + price_october +\n",
        "                price_november + price_december) / 12\n",
        "\n",
        "print(f\"Average price for the fiscal year: {average_price:.2f}\")\n",
        "\n",
        "# Create a list of dictionaries to hold the data\n",
        "data = []\n",
        "\n",
        "# Define the months\n",
        "months = [\"April\", \"May\", \"June\", \"July\", \"August\", \"September\", \"October\", \"November\", \"December\", \"January\", \"February\", \"March\"]\n",
        "\n",
        "# Add prices for fiscal year 2024\n",
        "data.append({\"Year\": \"2024\", \"Month\": \"January\", \"Price\": prices_jan_to_jun[0]})\n",
        "data.append({\"Year\": \"2024\", \"Month\": \"February\", \"Price\": prices_jan_to_jun[1]})\n",
        "data.append({\"Year\": \"2024\", \"Month\": \"March\", \"Price\": prices_jan_to_jun[2]})\n",
        "data.append({\"Year\": \"2024\", \"Month\": \"April\", \"Price\": prices_jan_to_jun[3]})\n",
        "data.append({\"Year\": \"2024\", \"Month\": \"May\", \"Price\": prices_jan_to_jun[4]})\n",
        "data.append({\"Year\": \"2024\", \"Month\": \"June\", \"Price\": prices_jan_to_jun[5]})\n",
        "data.append({\"Year\": \"2024\", \"Month\": \"July\", \"Price\": price_july})\n",
        "data.append({\"Year\": \"2024\", \"Month\": \"August\", \"Price\": price_august})\n",
        "data.append({\"Year\": \"2024\", \"Month\": \"September\", \"Price\": price_september})\n",
        "data.append({\"Year\": \"2024\", \"Month\": \"October\", \"Price\": price_october})\n",
        "data.append({\"Year\": \"2024\", \"Month\": \"November\", \"Price\": price_november})\n",
        "data.append({\"Year\": \"2024\", \"Month\": \"December\", \"Price\": price_december})\n",
        "\n",
        "\n",
        "# Convert the data to a DataFrame\n",
        "df = pd.DataFrame(data)\n",
        "\n",
        "# Save the DataFrame to an Excel file\n",
        "# df.to_excel(\"price_series_2024.xlsx\", index=False)\n",
        "\n",
        "# # Print the DataFrame\n",
        "# print(df)\n"
      ],
      "metadata": {
        "colab": {
          "base_uri": "https://localhost:8080/"
        },
        "id": "0OGBLzbOCpBx",
        "outputId": "5a90eade-14be-45c2-e928-1d548bc5128a"
      },
      "execution_count": 29,
      "outputs": [
        {
          "output_type": "stream",
          "name": "stdout",
          "text": [
            "January price: 73.86\n",
            "February price: 76.61\n",
            "March price: 80.41\n",
            "April price: 84.39\n",
            "May price: 78.62\n",
            "June price: 78.7\n",
            "July price: 75.99\n",
            "August price: 75.61\n",
            "September price: 74.86\n",
            "October price: 74.78\n",
            "November price: 74.86\n",
            "December price: 74.86\n",
            "Average price for the fiscal year: 76.96\n"
          ]
        }
      ]
    },
    {
      "cell_type": "code",
      "source": [
        "#calendar years 2025 to 2028\n",
        "\n",
        "# Define the months\n",
        "months = [\"January\", \"February\", \"March\", \"April\", \"May\", \"June\", \"July\", \"August\", \"September\", \"October\", \"November\", \"December\"]\n",
        "\n",
        "# Calculate the total price to be distributed\n",
        "total_months = 12\n",
        "higher_months = [\"June\", \"July\", \"August\"]\n",
        "lower_months = [\"January\", \"February\", \"March\", \"November\", \"December\"]\n",
        "\n",
        "# Create a function to distribute the prices\n",
        "def distribute_price(year_price):\n",
        "    avg_price = year_price\n",
        "    month_prices = {month: avg_price for month in months}\n",
        "\n",
        "    # Adjust the prices according to the given constraints\n",
        "    month_prices[\"January\"] = avg_price * 0.995\n",
        "    month_prices[\"February\"] = avg_price * 0.994\n",
        "    month_prices[\"March\"] = avg_price * 0.995\n",
        "    month_prices[\"June\"] = avg_price * 1.005\n",
        "    month_prices[\"July\"] = avg_price * 1.010\n",
        "    month_prices[\"August\"] = avg_price * 1.005\n",
        "    month_prices[\"November\"] = avg_price * 0.995\n",
        "    month_prices[\"December\"] = avg_price * 0.990\n",
        "    # Calculate the remaining price to be distributed among other months\n",
        "    total_adjusted_price = sum(month_prices[month] for month in higher_months + lower_months)\n",
        "    remaining_price = year_price * total_months - total_adjusted_price\n",
        "    remaining_months = total_months - len(higher_months + lower_months)\n",
        "    remaining_avg_price = remaining_price / remaining_months\n",
        "\n",
        "    for month in months:\n",
        "        if month not in higher_months + lower_months:\n",
        "            month_prices[month] = remaining_avg_price\n",
        "\n",
        "    return month_prices\n",
        "\n",
        "# Distribute the prices for each fiscal year\n",
        "prices_2025 = distribute_price(price_2025)\n",
        "prices_2026 = distribute_price(price_2026)\n",
        "prices_2027 = distribute_price(price_2027)\n",
        "prices_2028 = distribute_price(price_2028)\n",
        "\n",
        "# Create a list of dictionaries to hold the data\n",
        "data = []\n",
        "\n",
        "# Add prices for fiscal year 2025\n",
        "for month in months:\n",
        "    data.append({\"Year\": \"2025\", \"Month\": month, \"Price\": prices_2025[month]})\n",
        "\n",
        "# Add prices for fiscal year 2026\n",
        "for month in months:\n",
        "    data.append({\"Year\": \"2026\", \"Month\": month, \"Price\": prices_2026[month]})\n",
        "\n",
        "# Add prices for fiscal year 2027\n",
        "for month in months:\n",
        "    data.append({\"Year\": \"2027\", \"Month\": month, \"Price\": prices_2027[month]})\n",
        "\n",
        "# Add prices for fiscal year 2028\n",
        "for month in months:\n",
        "    data.append({\"Year\": \"2028\", \"Month\": month, \"Price\": prices_2028[month]})\n",
        "\n",
        "# Convert the data to a DataFrame\n",
        "df2 = pd.DataFrame(data)\n",
        "\n",
        "# # Save the DataFrame to an Excel file\n",
        "# df2.to_excel(\"price_series_2025_2028.xlsx\", index=False)\n",
        "\n",
        "# # Print the DataFrame\n",
        "# print(df2)\n"
      ],
      "metadata": {
        "id": "DMFZJW02UPv2"
      },
      "execution_count": 30,
      "outputs": []
    },
    {
      "cell_type": "code",
      "source": [
        "# prompt: append df and df2\n",
        "df3 = pd.concat([df, df2], ignore_index=True)\n",
        "# Save the DataFrame to an Excel file\n",
        "df3.to_excel(\"price_series_2024_2028.xlsx\", index=False)\n"
      ],
      "metadata": {
        "id": "oaSqsj0r2fl4"
      },
      "execution_count": 31,
      "outputs": []
    }
  ]
}